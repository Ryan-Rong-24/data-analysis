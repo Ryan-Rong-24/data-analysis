{
 "cells": [
  {
   "cell_type": "code",
   "execution_count": 1,
   "metadata": {},
   "outputs": [
    {
     "data": {
      "text/html": [
       "<div>\n",
       "<style scoped>\n",
       "    .dataframe tbody tr th:only-of-type {\n",
       "        vertical-align: middle;\n",
       "    }\n",
       "\n",
       "    .dataframe tbody tr th {\n",
       "        vertical-align: top;\n",
       "    }\n",
       "\n",
       "    .dataframe thead th {\n",
       "        text-align: right;\n",
       "    }\n",
       "</style>\n",
       "<table border=\"1\" class=\"dataframe\">\n",
       "  <thead>\n",
       "    <tr style=\"text-align: right;\">\n",
       "      <th></th>\n",
       "      <th>KEY1</th>\n",
       "      <th>KEY2</th>\n",
       "      <th>KEY2_2</th>\n",
       "      <th>KEY3</th>\n",
       "    </tr>\n",
       "  </thead>\n",
       "  <tbody>\n",
       "    <tr>\n",
       "      <th>0</th>\n",
       "      <td>a</td>\n",
       "      <td>hee</td>\n",
       "      <td>呵呵呵ee</td>\n",
       "      <td>[h, e, e]</td>\n",
       "    </tr>\n",
       "    <tr>\n",
       "      <th>1</th>\n",
       "      <td>b</td>\n",
       "      <td>fv</td>\n",
       "      <td>fv</td>\n",
       "      <td>[f, v]</td>\n",
       "    </tr>\n",
       "    <tr>\n",
       "      <th>2</th>\n",
       "      <td>c</td>\n",
       "      <td>w</td>\n",
       "      <td>w</td>\n",
       "      <td>[w]</td>\n",
       "    </tr>\n",
       "    <tr>\n",
       "      <th>3</th>\n",
       "      <td>d</td>\n",
       "      <td>hija</td>\n",
       "      <td>呵呵呵ija</td>\n",
       "      <td>[h, i, j, a]</td>\n",
       "    </tr>\n",
       "    <tr>\n",
       "      <th>4</th>\n",
       "      <td>e</td>\n",
       "      <td>123</td>\n",
       "      <td>123</td>\n",
       "      <td>[1, 2, 3]</td>\n",
       "    </tr>\n",
       "    <tr>\n",
       "      <th>5</th>\n",
       "      <td>f</td>\n",
       "      <td>NaN</td>\n",
       "      <td>NaN</td>\n",
       "      <td>NaN</td>\n",
       "    </tr>\n",
       "  </tbody>\n",
       "</table>\n",
       "</div>"
      ],
      "text/plain": [
       "  KEY1  KEY2  KEY2_2          KEY3\n",
       "0    a   hee   呵呵呵ee     [h, e, e]\n",
       "1    b    fv      fv        [f, v]\n",
       "2    c     w       w           [w]\n",
       "3    d  hija  呵呵呵ija  [h, i, j, a]\n",
       "4    e   123     123     [1, 2, 3]\n",
       "5    f   NaN     NaN           NaN"
      ]
     },
     "execution_count": 1,
     "metadata": {},
     "output_type": "execute_result"
    }
   ],
   "source": [
    "import pandas as pd\n",
    "import numpy as np\n",
    "\n",
    "df = pd.DataFrame({'key1':list('abcdef'),'key2':['hee','fv','w','hija','123',np.nan]})\n",
    "df.columns = df.columns.str.upper()\n",
    "df['KEY2'].str.len()\n",
    "df['KEY1'].str.startswith('b')\n",
    "df['KEY2'].str.endswith('3')\n",
    "df['KEY2_2'] = df['KEY2'].str.replace('h','呵呵呵')\n",
    "df['KEY3'] = df['KEY2'].str.split('')\n",
    "\n",
    "for key,value in df['KEY3'].items():\n",
    "    try:\n",
    "        df['KEY3'][key] = value[1:-1]\n",
    "    except:\n",
    "        continue\n",
    "df"
   ]
  },
  {
   "cell_type": "code",
   "execution_count": 2,
   "metadata": {},
   "outputs": [
    {
     "data": {
      "text/plain": [
       "0     结识\n",
       "1      到\n",
       "8     发挥\n",
       "11    社交\n",
       "16    拓展\n",
       "26    相约\n",
       "27     到\n",
       "32    吃饭\n",
       "37    喝酒\n",
       "40     切\n",
       "42    贪杯\n",
       "53     有\n",
       "54    怀疑\n",
       "57    待人\n",
       "58    处事\n",
       "61    显得\n",
       "62    比较\n",
       "70    花费\n",
       "71     较\n",
       "76    例如\n",
       "80    沟通\n",
       "87     说\n",
       "88    不通\n",
       "Name: word, dtype: object"
      ]
     },
     "execution_count": 2,
     "metadata": {},
     "output_type": "execute_result"
    }
   ],
   "source": [
    "words = '结识/v 到/v 不少/a 新/a 的/u 朋友/n ，/w 充分/a 发挥/v 你/r 在/p 社交/v 方面/n 的/u 能力/n ，/w 拓展/v 自己/r 的/u 朋友/n 圈/n 。/w 晚上/nt 会/vu 跟/c 朋友/n 相约/v 到/v 环境/n 优雅/a 的/u 餐厅/n 吃饭/v ，/w 但是/c 如果/c 要/vu 喝酒/v 的/u 话，/w 切/v 莫/d 贪杯/v 。/w 今天/nt 心情/n 有些/m 不/d 稳定/a ，/w 或是/vl 对/a 他人/r 有/v 怀疑/v ，/w 在/p 待人/v 处事/v 方面/n 会/vu 显得/v 比较/v 保守/a 。/w 有些/m 事情/n 会/vu 让/p 你/r 花费/v 较/v 多/a 的/u 脑力/n ，/w 例如/v 在/p 与/c 客户/n 沟通/v 的/u 问题/n 上/nd ，/w 怎么/r 也/d 说/v 不通/v 。/w 与/c 朋友/n 、/w 家人/n'\n",
    "textdf = pd.DataFrame({'og':words.split(' ')})\n",
    "textdf['word'] = textdf['og'].str.split('/').str[0]\n",
    "textdf['type'] = textdf['og'].str.split('/').str[1]\n",
    "textdf[textdf['type']=='v']['word']"
   ]
  },
  {
   "cell_type": "code",
   "execution_count": 3,
   "metadata": {},
   "outputs": [
    {
     "data": {
      "image/png": "[encoded data removed]",
      "text/plain": [
       "<Figure size 432x288 with 1 Axes>"
      ]
     },
     "metadata": {
      "needs_background": "light"
     },
     "output_type": "display_data"
    }
   ],
   "source": [
    "import pandas as pd\n",
    "import numpy as np\n",
    "from os import path\n",
    "from PIL import Image\n",
    "from wordcloud import WordCloud, STOPWORDS, ImageColorGenerator\n",
    "import matplotlib.pyplot as plt\n",
    "from matplotlib.pyplot import imread\n",
    "\n",
    "# star_mask = imread('icon.png')\n",
    "# star_mask.dtype = np.int64\n",
    "# print(star_mask)\n",
    "\n",
    "%matplotlib inline\n",
    "plt.rcParams['font.family']='SimHei'\n",
    "\n",
    "words2 = 'Fata morgana: a superior mirage (a type of mirage seen above the actual object) often seen near the Straits of Messina. In a fata morgana, the image of the object it is based on is significantly distorted and changes rapidly. The name ‘fata morgana’ is from Morgan le Fay, a mythical fairy, half-sister of King Arthur and enchantress who lures sailors to an undersea palace with visions of castles in the air. Cold case: an unsolved criminal investigation of a crime committed many years before that has stopped being actively pursued usually because of a lack of evidence. A cold case can be examined again, with new information from witnesses, new or retained evidence, new technical methods, and recent activities of the suspect. Cold cases typically are violent or felony crimes (like murder or rape), because violent or felony crimes are not subject to a statute of limitations, whereas minor crimes are. '\n",
    "text = words2\n",
    "\n",
    "wine_mask = np.array(Image.open(\"wine_mask.png\"))\n",
    "\n",
    "def transform_format(val):\n",
    "    if val == 0:\n",
    "        return 255\n",
    "    else:\n",
    "        return val\n",
    "    \n",
    "transformed_wine_mask = np.ndarray((wine_mask.shape[0],wine_mask.shape[1]), np.int32)\n",
    "\n",
    "for i in range(len(wine_mask)):\n",
    "    transformed_wine_mask[i] = list(map(transform_format, wine_mask[i]))\n",
    "\n",
    "    \n",
    "wc = WordCloud(background_color=\"white\", max_words=1000, mask=transformed_wine_mask, contour_width=3, contour_color='firebrick')\n",
    "wc.generate(text)\n",
    "\n",
    "plt.imshow(wc, interpolation='bilinear')\n",
    "plt.axis(\"off\")\n",
    "plt.show()"
   ]
  }
 ],
 "metadata": {
  "kernelspec": {
   "display_name": "Python 3 (ipykernel)",
   "language": "python",
   "name": "python3"
  },
  "language_info": {
   "codemirror_mode": {
    "name": "ipython",
    "version": 3
   },
   "file_extension": ".py",
   "mimetype": "text/x-python",
   "name": "python",
   "nbconvert_exporter": "python",
   "pygments_lexer": "ipython3",
   "version": "3.10.4"
  }
 },
 "nbformat": 4,
 "nbformat_minor": 2
}
