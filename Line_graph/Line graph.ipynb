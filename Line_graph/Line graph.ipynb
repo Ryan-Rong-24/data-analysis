{
 "cells": [
  {
   "cell_type": "code",
   "execution_count": 8,
   "metadata": {},
   "outputs": [
    {
     "name": "stdout",
     "output_type": "stream",
     "text": [
      "<class 'pandas.core.frame.DataFrame'>\n",
      "RangeIndex: 271 entries, 0 to 270\n",
      "Data columns (total 4 columns):\n",
      " #   Column                 Non-Null Count  Dtype \n",
      "---  ------                 --------------  ----- \n",
      " 0   date                   271 non-null    object\n",
      " 1   article_reading_cnts   271 non-null    int64 \n",
      " 2   article_reading_times  271 non-null    int64 \n",
      " 3   collect_times          271 non-null    int64 \n",
      "dtypes: int64(3), object(1)\n",
      "memory usage: 8.6+ KB\n"
     ]
    },
    {
     "data": {
      "application/vnd.plotly.v1+json": {
       "config": {
        "plotlyServerURL": "https://plot.ly"
       },
       "data": [
        {
         "mode": "lines+markers",
         "name": "lines+markers",
         "type": "scatter",
         "x": [
          "01/01",
          "01/02",
          "01/03",
          "01/04",
          "01/05",
          "01/06",
          "01/07",
          "01/08",
          "01/09",
          "01/10",
          "01/11",
          "01/12",
          "01/13",
          "01/14",
          "01/15",
          "01/16",
          "01/17",
          "01/18",
          "01/19",
          "01/20",
          "01/21",
          "01/22",
          "01/23",
          "01/24",
          "01/25",
          "01/26",
          "01/27",
          "01/28",
          "01/29",
          "01/30",
          "01/31",
          "02/01",
          "02/02",
          "02/03",
          "02/04",
          "02/05",
          "02/06",
          "02/07",
          "02/08",
          "02/09",
          "02/10",
          "02/11",
          "02/12",
          "02/13",
          "02/14",
          "02/15",
          "02/16",
          "02/17",
          "02/18",
          "02/19",
          "02/20",
          "02/21",
          "02/22",
          "02/23",
          "02/24",
          "02/25",
          "02/26",
          "02/27",
          "02/28",
          "03/01",
          "03/02",
          "03/03",
          "03/04",
          "03/05",
          "03/06",
          "03/07",
          "03/08",
          "03/09",
          "03/10",
          "03/11",
          "03/12",
          "03/13",
          "03/14",
          "03/15",
          "03/16",
          "03/17",
          "03/18",
          "03/19",
          "03/20",
          "03/21",
          "03/22",
          "03/23",
          "03/24",
          "03/25",
          "03/26",
          "03/27",
          "03/28",
          "03/29",
          "03/30",
          "03/31",
          "04/01",
          "04/02",
          "04/03",
          "04/04",
          "04/05",
          "04/06",
          "04/07",
          "04/08",
          "04/09",
          "04/10",
          "04/11",
          "04/12",
          "04/13",
          "04/14",
          "04/15",
          "04/16",
          "04/17",
          "04/18",
          "04/19",
          "04/20",
          "04/21",
          "04/22",
          "04/23",
          "04/24",
          "04/25",
          "04/26",
          "04/27",
          "04/28",
          "04/29",
          "04/30",
          "05/01",
          "05/02",
          "05/03",
          "05/04",
          "05/05",
          "05/06",
          "05/07",
          "05/08",
          "05/09",
          "05/10",
          "05/11",
          "05/12",
          "05/13",
          "05/14",
          "05/15",
          "05/16",
          "05/17",
          "05/18",
          "05/19",
          "05/20",
          "05/21",
          "05/22",
          "05/23",
          "05/24",
          "05/25",
          "05/26",
          "05/27",
          "05/28",
          "05/29",
          "05/30",
          "05/31",
          "06/01",
          "06/02",
          "06/03",
          "06/04",
          "06/05",
          "06/06",
          "06/07",
          "06/08",
          "06/09",
          "06/10",
          "06/11",
          "06/12",
          "06/13",
          "06/14",
          "06/15",
          "06/16",
          "06/17",
          "06/18",
          "06/19",
          "06/20",
          "06/21",
          "06/22",
          "06/23",
          "06/24",
          "06/25",
          "06/26",
          "06/27",
          "06/28",
          "06/29",
          "06/30",
          "07/01",
          "07/02",
          "07/03",
          "07/04",
          "07/05",
          "07/06",
          "07/07",
          "07/08",
          "07/09",
          "07/10",
          "07/11",
          "07/12",
          "07/13",
          "07/14",
          "07/15",
          "07/16",
          "07/17",
          "07/18",
          "07/19",
          "07/20",
          "07/21",
          "07/22",
          "07/23",
          "07/24",
          "07/25",
          "07/26",
          "07/27",
          "07/28",
          "07/29",
          "07/30",
          "07/31",
          "08/01",
          "08/02",
          "08/03",
          "08/04",
          "08/05",
          "08/06",
          "08/07",
          "08/08",
          "08/09",
          "08/10",
          "08/11",
          "08/12",
          "08/13",
          "08/14",
          "08/15",
          "08/16",
          "08/17",
          "08/18",
          "08/19",
          "08/20",
          "08/21",
          "08/22",
          "08/23",
          "08/24",
          "08/25",
          "08/26",
          "08/27",
          "08/28",
          "08/29",
          "08/30",
          "08/31",
          "09/01",
          "09/02",
          "09/03",
          "09/04",
          "09/05",
          "09/06",
          "09/07",
          "09/08",
          "09/09",
          "09/10",
          "09/11",
          "09/12",
          "09/13",
          "09/14",
          "09/15",
          "09/16",
          "09/17",
          "09/18",
          "09/19",
          "09/20",
          "09/21",
          "09/22",
          "09/23",
          "09/24",
          "09/25",
          "09/26",
          "09/27",
          "09/28"
         ],
         "y": [
          37,
          51,
          93,
          58,
          58,
          47,
          36,
          46,
          62,
          57,
          62,
          72,
          51,
          33,
          484,
          171,
          97,
          375,
          143,
          55,
          62,
          56,
          48,
          23,
          32,
          28,
          23,
          16,
          38,
          22,
          25,
          24,
          51,
          37,
          43,
          50,
          45,
          613,
          140,
          93,
          86,
          45,
          51,
          97,
          74,
          72,
          70,
          636,
          151,
          310,
          140,
          127,
          118,
          88,
          87,
          55,
          57,
          67,
          970,
          923,
          221,
          112,
          102,
          71,
          97,
          133,
          96,
          89,
          88,
          63,
          67,
          80,
          75,
          70,
          69,
          69,
          50,
          64,
          64,
          81,
          132,
          105,
          64,
          39,
          56,
          62,
          62,
          61,
          65,
          70,
          44,
          45,
          21,
          34,
          1085,
          192,
          131,
          117,
          75,
          103,
          85,
          85,
          69,
          69,
          62,
          557,
          218,
          92,
          735,
          158,
          104,
          54,
          65,
          62,
          77,
          57,
          109,
          91,
          43,
          48,
          54,
          67,
          85,
          78,
          56,
          55,
          57,
          62,
          37,
          66,
          82,
          57,
          31,
          41,
          55,
          103,
          63,
          61,
          41,
          42,
          41,
          54,
          42,
          47,
          66,
          56,
          29,
          43,
          41,
          29,
          47,
          37,
          78,
          36,
          581,
          143,
          123,
          86,
          75,
          46,
          46,
          453,
          101,
          79,
          87,
          66,
          60,
          36,
          43,
          233,
          221,
          90,
          168,
          61,
          52,
          66,
          55,
          89,
          76,
          250,
          240,
          68,
          58,
          74,
          82,
          476,
          164,
          96,
          75,
          361,
          134,
          180,
          93,
          104,
          76,
          57,
          69,
          71,
          68,
          68,
          66,
          66,
          60,
          59,
          71,
          87,
          319,
          240,
          94,
          54,
          475,
          168,
          116,
          91,
          62,
          52,
          45,
          83,
          66,
          74,
          286,
          290,
          86,
          81,
          67,
          83,
          81,
          74,
          63,
          80,
          80,
          52,
          95,
          413,
          264,
          109,
          206,
          81,
          65,
          72,
          91,
          568,
          256,
          466,
          377,
          181,
          161,
          119,
          95,
          1037,
          918,
          143,
          113,
          105,
          113,
          82,
          79,
          77,
          85,
          59,
          85,
          95,
          83,
          78,
          69,
          539,
          126,
          603,
          603,
          477,
          476
         ]
        }
       ],
       "layout": {
        "template": {
         "data": {
          "bar": [
           {
            "error_x": {
             "color": "#2a3f5f"
            },
            "error_y": {
             "color": "#2a3f5f"
            },
            "marker": {
             "line": {
              "color": "#E5ECF6",
              "width": 0.5
             },
             "pattern": {
              "fillmode": "overlay",
              "size": 10,
              "solidity": 0.2
             }
            },
            "type": "bar"
           }
          ],
          "barpolar": [
           {
            "marker": {
             "line": {
              "color": "#E5ECF6",
              "width": 0.5
             },
             "pattern": {
              "fillmode": "overlay",
              "size": 10,
              "solidity": 0.2
             }
            },
            "type": "barpolar"
           }
          ],
          "carpet": [
           {
            "aaxis": {
             "endlinecolor": "#2a3f5f",
             "gridcolor": "white",
             "linecolor": "white",
             "minorgridcolor": "white",
             "startlinecolor": "#2a3f5f"
            },
            "baxis": {
             "endlinecolor": "#2a3f5f",
             "gridcolor": "white",
             "linecolor": "white",
             "minorgridcolor": "white",
             "startlinecolor": "#2a3f5f"
            },
            "type": "carpet"
           }
          ],
          "choropleth": [
           {
            "colorbar": {
             "outlinewidth": 0,
             "ticks": ""
            },
            "type": "choropleth"
           }
          ],
          "contour": [
           {
            "colorbar": {
             "outlinewidth": 0,
             "ticks": ""
            },
            "colorscale": [
             [
              0,
              "#0d0887"
             ],
             [
              0.1111111111111111,
              "#46039f"
             ],
             [
              0.2222222222222222,
              "#7201a8"
             ],
             [
              0.3333333333333333,
              "#9c179e"
             ],
             [
              0.4444444444444444,
              "#bd3786"
             ],
             [
              0.5555555555555556,
              "#d8576b"
             ],
             [
              0.6666666666666666,
              "#ed7953"
             ],
             [
              0.7777777777777778,
              "#fb9f3a"
             ],
             [
              0.8888888888888888,
              "#fdca26"
             ],
             [
              1,
              "#f0f921"
             ]
            ],
            "type": "contour"
           }
          ],
          "contourcarpet": [
           {
            "colorbar": {
             "outlinewidth": 0,
             "ticks": ""
            },
            "type": "contourcarpet"
           }
          ],
          "heatmap": [
           {
            "colorbar": {
             "outlinewidth": 0,
             "ticks": ""
            },
            "colorscale": [
             [
              0,
              "#0d0887"
             ],
             [
              0.1111111111111111,
              "#46039f"
             ],
             [
              0.2222222222222222,
              "#7201a8"
             ],
             [
              0.3333333333333333,
              "#9c179e"
             ],
             [
              0.4444444444444444,
              "#bd3786"
             ],
             [
              0.5555555555555556,
              "#d8576b"
             ],
             [
              0.6666666666666666,
              "#ed7953"
             ],
             [
              0.7777777777777778,
              "#fb9f3a"
             ],
             [
              0.8888888888888888,
              "#fdca26"
             ],
             [
              1,
              "#f0f921"
             ]
            ],
            "type": "heatmap"
           }
          ],
          "heatmapgl": [
           {
            "colorbar": {
             "outlinewidth": 0,
             "ticks": ""
            },
            "colorscale": [
             [
              0,
              "#0d0887"
             ],
             [
              0.1111111111111111,
              "#46039f"
             ],
             [
              0.2222222222222222,
              "#7201a8"
             ],
             [
              0.3333333333333333,
              "#9c179e"
             ],
             [
              0.4444444444444444,
              "#bd3786"
             ],
             [
              0.5555555555555556,
              "#d8576b"
             ],
             [
              0.6666666666666666,
              "#ed7953"
             ],
             [
              0.7777777777777778,
              "#fb9f3a"
             ],
             [
              0.8888888888888888,
              "#fdca26"
             ],
             [
              1,
              "#f0f921"
             ]
            ],
            "type": "heatmapgl"
           }
          ],
          "histogram": [
           {
            "marker": {
             "pattern": {
              "fillmode": "overlay",
              "size": 10,
              "solidity": 0.2
             }
            },
            "type": "histogram"
           }
          ],
          "histogram2d": [
           {
            "colorbar": {
             "outlinewidth": 0,
             "ticks": ""
            },
            "colorscale": [
             [
              0,
              "#0d0887"
             ],
             [
              0.1111111111111111,
              "#46039f"
             ],
             [
              0.2222222222222222,
              "#7201a8"
             ],
             [
              0.3333333333333333,
              "#9c179e"
             ],
             [
              0.4444444444444444,
              "#bd3786"
             ],
             [
              0.5555555555555556,
              "#d8576b"
             ],
             [
              0.6666666666666666,
              "#ed7953"
             ],
             [
              0.7777777777777778,
              "#fb9f3a"
             ],
             [
              0.8888888888888888,
              "#fdca26"
             ],
             [
              1,
              "#f0f921"
             ]
            ],
            "type": "histogram2d"
           }
          ],
          "histogram2dcontour": [
           {
            "colorbar": {
             "outlinewidth": 0,
             "ticks": ""
            },
            "colorscale": [
             [
              0,
              "#0d0887"
             ],
             [
              0.1111111111111111,
              "#46039f"
             ],
             [
              0.2222222222222222,
              "#7201a8"
             ],
             [
              0.3333333333333333,
              "#9c179e"
             ],
             [
              0.4444444444444444,
              "#bd3786"
             ],
             [
              0.5555555555555556,
              "#d8576b"
             ],
             [
              0.6666666666666666,
              "#ed7953"
             ],
             [
              0.7777777777777778,
              "#fb9f3a"
             ],
             [
              0.8888888888888888,
              "#fdca26"
             ],
             [
              1,
              "#f0f921"
             ]
            ],
            "type": "histogram2dcontour"
           }
          ],
          "mesh3d": [
           {
            "colorbar": {
             "outlinewidth": 0,
             "ticks": ""
            },
            "type": "mesh3d"
           }
          ],
          "parcoords": [
           {
            "line": {
             "colorbar": {
              "outlinewidth": 0,
              "ticks": ""
             }
            },
            "type": "parcoords"
           }
          ],
          "pie": [
           {
            "automargin": true,
            "type": "pie"
           }
          ],
          "scatter": [
           {
            "fillpattern": {
             "fillmode": "overlay",
             "size": 10,
             "solidity": 0.2
            },
            "type": "scatter"
           }
          ],
          "scatter3d": [
           {
            "line": {
             "colorbar": {
              "outlinewidth": 0,
              "ticks": ""
             }
            },
            "marker": {
             "colorbar": {
              "outlinewidth": 0,
              "ticks": ""
             }
            },
            "type": "scatter3d"
           }
          ],
          "scattercarpet": [
           {
            "marker": {
             "colorbar": {
              "outlinewidth": 0,
              "ticks": ""
             }
            },
            "type": "scattercarpet"
           }
          ],
          "scattergeo": [
           {
            "marker": {
             "colorbar": {
              "outlinewidth": 0,
              "ticks": ""
             }
            },
            "type": "scattergeo"
           }
          ],
          "scattergl": [
           {
            "marker": {
             "colorbar": {
              "outlinewidth": 0,
              "ticks": ""
             }
            },
            "type": "scattergl"
           }
          ],
          "scattermapbox": [
           {
            "marker": {
             "colorbar": {
              "outlinewidth": 0,
              "ticks": ""
             }
            },
            "type": "scattermapbox"
           }
          ],
          "scatterpolar": [
           {
            "marker": {
             "colorbar": {
              "outlinewidth": 0,
              "ticks": ""
             }
            },
            "type": "scatterpolar"
           }
          ],
          "scatterpolargl": [
           {
            "marker": {
             "colorbar": {
              "outlinewidth": 0,
              "ticks": ""
             }
            },
            "type": "scatterpolargl"
           }
          ],
          "scatterternary": [
           {
            "marker": {
             "colorbar": {
              "outlinewidth": 0,
              "ticks": ""
             }
            },
            "type": "scatterternary"
           }
          ],
          "surface": [
           {
            "colorbar": {
             "outlinewidth": 0,
             "ticks": ""
            },
            "colorscale": [
             [
              0,
              "#0d0887"
             ],
             [
              0.1111111111111111,
              "#46039f"
             ],
             [
              0.2222222222222222,
              "#7201a8"
             ],
             [
              0.3333333333333333,
              "#9c179e"
             ],
             [
              0.4444444444444444,
              "#bd3786"
             ],
             [
              0.5555555555555556,
              "#d8576b"
             ],
             [
              0.6666666666666666,
              "#ed7953"
             ],
             [
              0.7777777777777778,
              "#fb9f3a"
             ],
             [
              0.8888888888888888,
              "#fdca26"
             ],
             [
              1,
              "#f0f921"
             ]
            ],
            "type": "surface"
           }
          ],
          "table": [
           {
            "cells": {
             "fill": {
              "color": "#EBF0F8"
             },
             "line": {
              "color": "white"
             }
            },
            "header": {
             "fill": {
              "color": "#C8D4E3"
             },
             "line": {
              "color": "white"
             }
            },
            "type": "table"
           }
          ]
         },
         "layout": {
          "annotationdefaults": {
           "arrowcolor": "#2a3f5f",
           "arrowhead": 0,
           "arrowwidth": 1
          },
          "autotypenumbers": "strict",
          "coloraxis": {
           "colorbar": {
            "outlinewidth": 0,
            "ticks": ""
           }
          },
          "colorscale": {
           "diverging": [
            [
             0,
             "#8e0152"
            ],
            [
             0.1,
             "#c51b7d"
            ],
            [
             0.2,
             "#de77ae"
            ],
            [
             0.3,
             "#f1b6da"
            ],
            [
             0.4,
             "#fde0ef"
            ],
            [
             0.5,
             "#f7f7f7"
            ],
            [
             0.6,
             "#e6f5d0"
            ],
            [
             0.7,
             "#b8e186"
            ],
            [
             0.8,
             "#7fbc41"
            ],
            [
             0.9,
             "#4d9221"
            ],
            [
             1,
             "#276419"
            ]
           ],
           "sequential": [
            [
             0,
             "#0d0887"
            ],
            [
             0.1111111111111111,
             "#46039f"
            ],
            [
             0.2222222222222222,
             "#7201a8"
            ],
            [
             0.3333333333333333,
             "#9c179e"
            ],
            [
             0.4444444444444444,
             "#bd3786"
            ],
            [
             0.5555555555555556,
             "#d8576b"
            ],
            [
             0.6666666666666666,
             "#ed7953"
            ],
            [
             0.7777777777777778,
             "#fb9f3a"
            ],
            [
             0.8888888888888888,
             "#fdca26"
            ],
            [
             1,
             "#f0f921"
            ]
           ],
           "sequentialminus": [
            [
             0,
             "#0d0887"
            ],
            [
             0.1111111111111111,
             "#46039f"
            ],
            [
             0.2222222222222222,
             "#7201a8"
            ],
            [
             0.3333333333333333,
             "#9c179e"
            ],
            [
             0.4444444444444444,
             "#bd3786"
            ],
            [
             0.5555555555555556,
             "#d8576b"
            ],
            [
             0.6666666666666666,
             "#ed7953"
            ],
            [
             0.7777777777777778,
             "#fb9f3a"
            ],
            [
             0.8888888888888888,
             "#fdca26"
            ],
            [
             1,
             "#f0f921"
            ]
           ]
          },
          "colorway": [
           "#636efa",
           "#EF553B",
           "#00cc96",
           "#ab63fa",
           "#FFA15A",
           "#19d3f3",
           "#FF6692",
           "#B6E880",
           "#FF97FF",
           "#FECB52"
          ],
          "font": {
           "color": "#2a3f5f"
          },
          "geo": {
           "bgcolor": "white",
           "lakecolor": "white",
           "landcolor": "#E5ECF6",
           "showlakes": true,
           "showland": true,
           "subunitcolor": "white"
          },
          "hoverlabel": {
           "align": "left"
          },
          "hovermode": "closest",
          "mapbox": {
           "style": "light"
          },
          "paper_bgcolor": "white",
          "plot_bgcolor": "#E5ECF6",
          "polar": {
           "angularaxis": {
            "gridcolor": "white",
            "linecolor": "white",
            "ticks": ""
           },
           "bgcolor": "#E5ECF6",
           "radialaxis": {
            "gridcolor": "white",
            "linecolor": "white",
            "ticks": ""
           }
          },
          "scene": {
           "xaxis": {
            "backgroundcolor": "#E5ECF6",
            "gridcolor": "white",
            "gridwidth": 2,
            "linecolor": "white",
            "showbackground": true,
            "ticks": "",
            "zerolinecolor": "white"
           },
           "yaxis": {
            "backgroundcolor": "#E5ECF6",
            "gridcolor": "white",
            "gridwidth": 2,
            "linecolor": "white",
            "showbackground": true,
            "ticks": "",
            "zerolinecolor": "white"
           },
           "zaxis": {
            "backgroundcolor": "#E5ECF6",
            "gridcolor": "white",
            "gridwidth": 2,
            "linecolor": "white",
            "showbackground": true,
            "ticks": "",
            "zerolinecolor": "white"
           }
          },
          "shapedefaults": {
           "line": {
            "color": "#2a3f5f"
           }
          },
          "ternary": {
           "aaxis": {
            "gridcolor": "white",
            "linecolor": "white",
            "ticks": ""
           },
           "baxis": {
            "gridcolor": "white",
            "linecolor": "white",
            "ticks": ""
           },
           "bgcolor": "#E5ECF6",
           "caxis": {
            "gridcolor": "white",
            "linecolor": "white",
            "ticks": ""
           }
          },
          "title": {
           "x": 0.05
          },
          "xaxis": {
           "automargin": true,
           "gridcolor": "white",
           "linecolor": "white",
           "ticks": "",
           "title": {
            "standoff": 15
           },
           "zerolinecolor": "white",
           "zerolinewidth": 2
          },
          "yaxis": {
           "automargin": true,
           "gridcolor": "white",
           "linecolor": "white",
           "ticks": "",
           "title": {
            "standoff": 15
           },
           "zerolinecolor": "white",
           "zerolinewidth": 2
          }
         }
        }
       }
      }
     },
     "metadata": {},
     "output_type": "display_data"
    }
   ],
   "source": [
    "import plotly.graph_objects as go\n",
    "import pandas as pd\n",
    "\n",
    "data = pd.read_csv('wechart.csv')\n",
    "data['date'] = pd.to_datetime(data['date'],format='%Y-%m-%d')\n",
    "data['date'] = data['date'].dt.strftime('%m/%d')\n",
    "\n",
    "data.info()\n",
    "\n",
    "fig = go.Figure()\n",
    "fig.add_trace(go.Scatter(x=data['date'],y=data['article_reading_cnts'],\n",
    "                    mode='lines+markers',\n",
    "                    name='lines+markers'))\n",
    "fig.show()"
   ]
  },
  {
   "cell_type": "code",
   "execution_count": null,
   "metadata": {},
   "outputs": [],
   "source": [
    "import os\n",
    "\n",
    "fig.write_image('images/fig.png')"
   ]
  },
  {
   "cell_type": "code",
   "execution_count": null,
   "metadata": {},
   "outputs": [],
   "source": []
  }
 ],
 "metadata": {
  "kernelspec": {
   "display_name": "base",
   "language": "python",
   "name": "python3"
  },
  "language_info": {
   "codemirror_mode": {
    "name": "ipython",
    "version": 3
   },
   "file_extension": ".py",
   "mimetype": "text/x-python",
   "name": "python",
   "nbconvert_exporter": "python",
   "pygments_lexer": "ipython3",
   "version": "3.9.13"
  },
  "vscode": {
   "interpreter": {
    "hash": "5a14f93b2ef813d458c04443e7f24105bdb1571bb9cd54ab499db277f628db2d"
   }
  }
 },
 "nbformat": 4,
 "nbformat_minor": 2
}
