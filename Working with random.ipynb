{
 "cells": [
  {
   "cell_type": "code",
   "execution_count": 1,
   "metadata": {},
   "outputs": [
    {
     "name": "stdout",
     "output_type": "stream",
     "text": [
      "[51 92 14 71 60 20 82 86 74 74]\n"
     ]
    }
   ],
   "source": [
    "import numpy as np\n",
    "rand = np.random.RandomState(42)\n",
    "x = rand.randint(100,size=10)\n",
    "print(x)"
   ]
  },
  {
   "cell_type": "code",
   "execution_count": 2,
   "metadata": {},
   "outputs": [
    {
     "data": {
      "text/plain": [
       "array([71, 86, 60])"
      ]
     },
     "execution_count": 2,
     "metadata": {},
     "output_type": "execute_result"
    }
   ],
   "source": [
    "ind = [3,7,4]\n",
    "x[ind]"
   ]
  },
  {
   "cell_type": "code",
   "execution_count": 3,
   "metadata": {},
   "outputs": [
    {
     "data": {
      "text/plain": [
       "[71, 86, 60]"
      ]
     },
     "execution_count": 3,
     "metadata": {},
     "output_type": "execute_result"
    }
   ],
   "source": [
    "[x[3],x[7],x[4]]"
   ]
  },
  {
   "cell_type": "code",
   "execution_count": 4,
   "metadata": {},
   "outputs": [
    {
     "data": {
      "text/plain": [
       "array([[71, 86],\n",
       "       [60, 20]])"
      ]
     },
     "execution_count": 4,
     "metadata": {},
     "output_type": "execute_result"
    }
   ],
   "source": [
    "ind = np.array([[3,7],[4,5]])\n",
    "x[ind]"
   ]
  },
  {
   "cell_type": "code",
   "execution_count": 5,
   "metadata": {},
   "outputs": [
    {
     "data": {
      "text/plain": [
       "array([[-0.644508  , -0.46220608],\n",
       "       [ 0.7376352 ,  1.21236921],\n",
       "       [ 0.88151763,  1.12795177],\n",
       "       [ 2.04998983,  5.97778598],\n",
       "       [-0.1711348 , -2.06258746],\n",
       "       [ 0.67956979,  0.83705124],\n",
       "       [ 1.46860232,  1.22961093],\n",
       "       [ 0.35282131,  1.49875397],\n",
       "       [-2.51552505, -5.64629995],\n",
       "       [ 0.0843329 , -0.3543059 ],\n",
       "       [ 0.19199272,  1.48901291],\n",
       "       [-0.02566217, -0.74987887],\n",
       "       [ 1.00569227,  2.25287315],\n",
       "       [ 0.49514263,  1.18939673],\n",
       "       [ 0.0629872 ,  0.57349278],\n",
       "       [ 0.75093031,  2.99487004],\n",
       "       [-3.0236127 , -6.00766046],\n",
       "       [-0.53943081, -0.3478899 ],\n",
       "       [ 1.53817376,  1.99973464],\n",
       "       [-0.50886808, -1.81099656],\n",
       "       [ 1.58115602,  2.86410319],\n",
       "       [ 0.99305043,  2.54294059],\n",
       "       [-0.87753796, -1.15767204],\n",
       "       [-1.11518048, -1.87508012],\n",
       "       [ 0.4299908 ,  0.36324254],\n",
       "       [ 0.97253528,  3.53815717],\n",
       "       [ 0.32124996,  0.33137032],\n",
       "       [-0.74618649, -2.77366681],\n",
       "       [-0.88473953, -1.81495444],\n",
       "       [ 0.98783862,  2.30280401],\n",
       "       [-1.2033623 , -2.04402725],\n",
       "       [-1.51101746, -3.2818741 ],\n",
       "       [-2.76337717, -7.66760648],\n",
       "       [ 0.39158553,  0.87949228],\n",
       "       [ 0.91181024,  3.32968944],\n",
       "       [-0.84202629, -2.01226547],\n",
       "       [ 1.06586877,  0.95500019],\n",
       "       [ 0.44457363,  1.87828298],\n",
       "       [ 0.35936721,  0.40554974],\n",
       "       [-0.90649669, -0.93486441],\n",
       "       [-0.35790389, -0.52363012],\n",
       "       [-1.33461668, -3.03203218],\n",
       "       [ 0.02815138,  0.79654924],\n",
       "       [ 0.37785618,  0.51409383],\n",
       "       [-1.06505097, -2.88726779],\n",
       "       [ 2.32083881,  5.97698647],\n",
       "       [ 0.47605744,  0.83634485],\n",
       "       [-0.35490984, -1.03657119],\n",
       "       [ 0.57532883, -0.79997124],\n",
       "       [ 0.33399913,  2.32597923],\n",
       "       [ 0.6575612 , -0.22389518],\n",
       "       [ 1.3707365 ,  2.2348831 ],\n",
       "       [ 0.07099548, -0.29685467],\n",
       "       [ 0.6074983 ,  1.47089233],\n",
       "       [-0.34226126, -1.10666237],\n",
       "       [ 0.69226246,  1.21504303],\n",
       "       [-0.31112937, -0.75912097],\n",
       "       [-0.26888327, -1.89366817],\n",
       "       [ 0.42044896,  1.85189522],\n",
       "       [ 0.21115245,  2.00781492],\n",
       "       [-1.83106042, -2.91352836],\n",
       "       [ 0.7841796 ,  1.97640753],\n",
       "       [ 0.10259314,  1.24690575],\n",
       "       [-1.91100558, -3.66800923],\n",
       "       [ 0.13143756, -0.07833855],\n",
       "       [-0.1317045 , -1.64159158],\n",
       "       [-0.14547282, -1.34125678],\n",
       "       [-0.51172373, -1.40960773],\n",
       "       [ 0.69758045,  0.72563649],\n",
       "       [ 0.11677083,  0.88385162],\n",
       "       [-1.16586444, -2.24482237],\n",
       "       [-2.23176235, -2.63958101],\n",
       "       [ 0.37857234,  0.69112594],\n",
       "       [ 0.87475323,  3.400675  ],\n",
       "       [-0.86864365, -3.03568353],\n",
       "       [-1.03637857, -1.18469125],\n",
       "       [-0.53334959, -0.37039911],\n",
       "       [ 0.30414557, -0.5828419 ],\n",
       "       [-1.47656656, -2.13046298],\n",
       "       [-0.31332021, -1.7895623 ],\n",
       "       [ 1.12659538,  1.49627535],\n",
       "       [-1.19675798, -1.51633442],\n",
       "       [-0.75210154, -0.79770535],\n",
       "       [ 0.74577693,  1.95834451],\n",
       "       [ 1.56094354,  2.9330816 ],\n",
       "       [-0.72009966, -1.99780959],\n",
       "       [-1.32319163, -2.61218347],\n",
       "       [-2.56215914, -6.08410838],\n",
       "       [ 1.31256297,  3.13143269],\n",
       "       [ 0.51575983,  2.30284639],\n",
       "       [ 0.01374713, -0.11539344],\n",
       "       [-0.16863279,  0.39422355],\n",
       "       [ 0.12065651,  1.13236323],\n",
       "       [-0.83504984, -2.38632016],\n",
       "       [ 1.05185885,  1.98418223],\n",
       "       [-0.69144553, -1.56919875],\n",
       "       [-1.2567603 , -1.125898  ],\n",
       "       [ 0.09619333, -0.64335574],\n",
       "       [-0.99658689, -2.35038099],\n",
       "       [-1.21405259, -1.77693724]])"
      ]
     },
     "execution_count": 5,
     "metadata": {},
     "output_type": "execute_result"
    }
   ],
   "source": [
    "mean = [0,0]\n",
    "cov =[[1,2,],[2,5]] #协方差矩阵\n",
    "X = rand.multivariate_normal(mean,cov,100) #根据mean和cov生成随机数\n",
    "X"
   ]
  },
  {
   "cell_type": "code",
   "execution_count": 7,
   "metadata": {},
   "outputs": [
    {
     "data": {
      "text/plain": [
       "<matplotlib.collections.PathCollection at 0x1a63a936920>"
      ]
     },
     "execution_count": 7,
     "metadata": {},
     "output_type": "execute_result"
    },
    {
     "data": {
      "image/png": "[encoded data removed]",
      "text/plain": [
       "<Figure size 432x288 with 1 Axes>"
      ]
     },
     "metadata": {},
     "output_type": "display_data"
    }
   ],
   "source": [
    "%matplotlib inline\n",
    "import matplotlib.pyplot as plt\n",
    "import seaborn; seaborn.set()\n",
    "plt.scatter(X[:,0],X[:,1]) #scatter graph"
   ]
  },
  {
   "cell_type": "code",
   "execution_count": 8,
   "metadata": {},
   "outputs": [
    {
     "data": {
      "text/plain": [
       "array([58, 49, 88, 18, 44,  1, 72, 23, 68, 75, 97, 47, 83, 30, 85, 42,  9,\n",
       "       80, 92, 11])"
      ]
     },
     "execution_count": 8,
     "metadata": {},
     "output_type": "execute_result"
    }
   ],
   "source": [
    "indices = np.random.choice(X.shape[0],20,replace=False) #replace=False: cannot get the same number\n",
    "indices"
   ]
  },
  {
   "cell_type": "code",
   "execution_count": 9,
   "metadata": {},
   "outputs": [
    {
     "data": {
      "text/plain": [
       "array([[ 0.42044896,  1.85189522],\n",
       "       [ 0.33399913,  2.32597923],\n",
       "       [ 1.31256297,  3.13143269],\n",
       "       [ 1.53817376,  1.99973464],\n",
       "       [-1.06505097, -2.88726779],\n",
       "       [ 0.7376352 ,  1.21236921],\n",
       "       [ 0.37857234,  0.69112594],\n",
       "       [-1.11518048, -1.87508012],\n",
       "       [ 0.69758045,  0.72563649],\n",
       "       [-1.03637857, -1.18469125],\n",
       "       [ 0.09619333, -0.64335574],\n",
       "       [-0.35490984, -1.03657119],\n",
       "       [ 0.74577693,  1.95834451],\n",
       "       [-1.2033623 , -2.04402725],\n",
       "       [-0.72009966, -1.99780959],\n",
       "       [ 0.02815138,  0.79654924],\n",
       "       [ 0.0843329 , -0.3543059 ],\n",
       "       [ 1.12659538,  1.49627535],\n",
       "       [ 0.12065651,  1.13236323],\n",
       "       [-0.02566217, -0.74987887]])"
      ]
     },
     "execution_count": 9,
     "metadata": {},
     "output_type": "execute_result"
    }
   ],
   "source": [
    "selection = X[indices]\n",
    "selection"
   ]
  },
  {
   "cell_type": "code",
   "execution_count": 10,
   "metadata": {},
   "outputs": [
    {
     "data": {
      "text/plain": [
       "<matplotlib.collections.PathCollection at 0x1a63aa2fee0>"
      ]
     },
     "execution_count": 10,
     "metadata": {},
     "output_type": "execute_result"
    },
    {
     "data": {
      "image/png": "[encoded data removed]",
      "text/plain": [
       "<Figure size 432x288 with 1 Axes>"
      ]
     },
     "metadata": {},
     "output_type": "display_data"
    }
   ],
   "source": [
    "plt.scatter(X[:,0],X[:,1],alpha=0.3) #alpha:opacity\n",
    "plt.scatter(selection[:,0],selection[:,1],facecolor='none',edgecolor='b',s=200) #s: dot size"
   ]
  },
  {
   "cell_type": "code",
   "execution_count": null,
   "metadata": {},
   "outputs": [],
   "source": []
  }
 ],
 "metadata": {
  "kernelspec": {
   "display_name": "Python 3 (ipykernel)",
   "language": "python",
   "name": "python3"
  },
  "language_info": {
   "codemirror_mode": {
    "name": "ipython",
    "version": 3
   },
   "file_extension": ".py",
   "mimetype": "text/x-python",
   "name": "python",
   "nbconvert_exporter": "python",
   "pygments_lexer": "ipython3",
   "version": "3.10.4"
  }
 },
 "nbformat": 4,
 "nbformat_minor": 2
}
