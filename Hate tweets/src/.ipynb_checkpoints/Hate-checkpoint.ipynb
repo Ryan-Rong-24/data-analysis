{
 "cells": [
  {
   "cell_type": "code",
   "execution_count": null,
   "metadata": {},
   "outputs": [],
   "source": [
    "import numpy as np\n",
    "import pandas as pd\n",
    "\n",
    "tweets = pd.read_csv('hate_tweets.csv')\n",
    "\n",
    "tweets['split_text'] = tweets['tweet'].str.split(\" \")\n",
    "\n",
    "for key,value in tweets['split_text'].head(5).items():\n",
    "    try:\n",
    "        l = tweets['split_text'][key].copy()\n",
    "        tweets['split_text'][key] = [item for item in l if item!= '']\n",
    "        print(tweets['split_text'][key])\n",
    "    except:\n",
    "        continue\n",
    "\n",
    "tweets\n",
    "\n",
    "# tweets['word_count'] = tweets['tweet'].apply(lambda x:len(str(x).split(\" \")))\n",
    "\n",
    "# tweets[['tweet','word_count']].head()\n",
    "# tweets['char_count'] = tweets['tweet'].str.len()\n",
    "\n",
    "# tweets[['tweet','char_count']].head()"
   ]
  },
  {
   "cell_type": "code",
   "execution_count": null,
   "metadata": {},
   "outputs": [],
   "source": []
  }
 ],
 "metadata": {
  "kernelspec": {
   "display_name": "Python 3",
   "language": "python",
   "name": "python3"
  },
  "language_info": {
   "codemirror_mode": {
    "name": "ipython",
    "version": 3
   },
   "file_extension": ".py",
   "mimetype": "text/x-python",
   "name": "python",
   "nbconvert_exporter": "python",
   "pygments_lexer": "ipython3",
   "version": "3.7.4"
  }
 },
 "nbformat": 4,
 "nbformat_minor": 2
}
