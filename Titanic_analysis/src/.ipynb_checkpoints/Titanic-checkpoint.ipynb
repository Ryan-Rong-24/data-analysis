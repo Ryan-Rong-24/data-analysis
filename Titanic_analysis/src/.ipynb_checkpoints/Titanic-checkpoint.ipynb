{
 "cells": [
  {
   "cell_type": "code",
   "execution_count": 1,
   "metadata": {},
   "outputs": [
    {
     "name": "stdout",
     "output_type": "stream",
     "text": [
      "     survived  pclass     sex   age  sibsp  parch     fare embarked    who  \\\n",
      "0           0       3    male  22.0      1      0   7.2500        S    man   \n",
      "1           1       1  female  38.0      1      0  71.2833        C  woman   \n",
      "2           1       3  female  26.0      0      0   7.9250        S  woman   \n",
      "3           1       1  female  35.0      1      0  53.1000        S  woman   \n",
      "4           0       3    male  35.0      0      0   8.0500        S    man   \n",
      "..        ...     ...     ...   ...    ...    ...      ...      ...    ...   \n",
      "886         0       2    male  27.0      0      0  13.0000        S    man   \n",
      "887         1       1  female  19.0      0      0  30.0000        S  woman   \n",
      "888         0       3  female   NaN      1      2  23.4500        S  woman   \n",
      "889         1       1    male  26.0      0      0  30.0000        C    man   \n",
      "890         0       3    male  32.0      0      0   7.7500        Q    man   \n",
      "\n",
      "     adult_male deck  embark_town alive  alone fareclass  \n",
      "0          True  NaN  Southampton    no  False     Third  \n",
      "1         False    C    Cherbourg   yes  False     First  \n",
      "2         False  NaN  Southampton   yes   True     Third  \n",
      "3         False    C  Southampton   yes  False     First  \n",
      "4          True  NaN  Southampton    no   True     Third  \n",
      "..          ...  ...          ...   ...    ...       ...  \n",
      "886        True  NaN  Southampton    no   True    Second  \n",
      "887       False    B  Southampton   yes   True     First  \n",
      "888       False  NaN  Southampton    no  False     Third  \n",
      "889        True    C    Cherbourg   yes   True     First  \n",
      "890        True  NaN   Queenstown    no   True     Third  \n",
      "\n",
      "[891 rows x 15 columns]\n",
      "fareclass     First    Second     Third\n",
      "sex                                    \n",
      "female     0.968085  0.921053  0.500000\n",
      "male       0.368852  0.157407  0.135447\n"
     ]
    },
    {
     "data": {
      "text/plain": [
       "1      1\n",
       "3      1\n",
       "11     1\n",
       "31     1\n",
       "52     1\n",
       "      ..\n",
       "856    1\n",
       "862    1\n",
       "871    1\n",
       "879    1\n",
       "887    1\n",
       "Name: survived, Length: 94, dtype: int64"
      ]
     },
     "execution_count": 1,
     "metadata": {},
     "output_type": "execute_result"
    }
   ],
   "source": [
    "import pandas as pd\n",
    "import numpy as np\n",
    "import seaborn as sns\n",
    "titanic = sns.load_dataset('titanic')\n",
    "sns.set()\n",
    "\n",
    "titanic['fareclass'] = titanic['class']\n",
    "titanic = titanic.drop(columns = ['class'])\n",
    "print(titanic) #drop 'class' because it clashes with keyword 'class'\n",
    "\n",
    "#calculate survival rate of people of different gender and class\n",
    "print(titanic.pivot_table('survived',index='sex',columns = 'fareclass')) \n",
    "\n",
    "#gets the survived of first class females\n",
    "titanic.query(\"(fareclass == 'First') and (sex == 'female')\")['survived']"
   ]
  },
  {
   "cell_type": "code",
   "execution_count": 2,
   "metadata": {},
   "outputs": [
    {
     "name": "stdout",
     "output_type": "stream",
     "text": [
      "fareclass        First  Second  Third\n",
      "sex    age                           \n",
      "female (0, 18]      11      14     43\n",
      "       (18, 80]     74      60     59\n",
      "male   (0, 18]       5      15     51\n",
      "       (18, 80]     96      84    202\n",
      "fareclass           First    Second     Third\n",
      "sex    age                                   \n",
      "female (0, 18]   0.909091  1.000000  0.511628\n",
      "       (18, 80]  0.972973  0.900000  0.423729\n",
      "male   (0, 18]   0.800000  0.600000  0.215686\n",
      "       (18, 80]  0.375000  0.071429  0.133663\n"
     ]
    }
   ],
   "source": [
    "age_array = titanic['age'].dropna().unique()\n",
    "# for i in age_array:\n",
    "#     print(i)\n",
    "# print(\"_________\")\n",
    "\n",
    "# for i in sorted(age_array):\n",
    "#     print(i)\n",
    "# print(\"_________\")\n",
    "\n",
    "age = pd.cut(titanic['age'],[0,18,80])\n",
    "#no. of survived\n",
    "print(titanic.pivot_table('survived',['sex',age],'fareclass',aggfunc = 'count'))\n",
    "#rate of survival \n",
    "print(titanic.pivot_table('survived',['sex',age],'fareclass')) "
   ]
  },
  {
   "cell_type": "code",
   "execution_count": null,
   "metadata": {},
   "outputs": [],
   "source": []
  },
  {
   "cell_type": "code",
   "execution_count": null,
   "metadata": {},
   "outputs": [],
   "source": []
  },
  {
   "cell_type": "code",
   "execution_count": null,
   "metadata": {},
   "outputs": [],
   "source": []
  },
  {
   "cell_type": "code",
   "execution_count": null,
   "metadata": {},
   "outputs": [],
   "source": []
  },
  {
   "cell_type": "code",
   "execution_count": null,
   "metadata": {},
   "outputs": [],
   "source": []
  }
 ],
 "metadata": {
  "kernelspec": {
   "display_name": "Python 3",
   "language": "python",
   "name": "python3"
  },
  "language_info": {
   "codemirror_mode": {
    "name": "ipython",
    "version": 3
   },
   "file_extension": ".py",
   "mimetype": "text/x-python",
   "name": "python",
   "nbconvert_exporter": "python",
   "pygments_lexer": "ipython3",
   "version": "3.7.4"
  }
 },
 "nbformat": 4,
 "nbformat_minor": 2
}
