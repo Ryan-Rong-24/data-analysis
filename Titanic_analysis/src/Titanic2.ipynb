{
 "cells": [
  {
   "cell_type": "code",
   "execution_count": 1,
   "metadata": {},
   "outputs": [
    {
     "name": "stdout",
     "output_type": "stream",
     "text": [
      "     survived  pclass     sex   age  sibsp  parch     fare embarked    who  \\\n",
      "0           0       3    male  22.0      1      0   7.2500        S    man   \n",
      "1           1       1  female  38.0      1      0  71.2833        C  woman   \n",
      "2           1       3  female  26.0      0      0   7.9250        S  woman   \n",
      "3           1       1  female  35.0      1      0  53.1000        S  woman   \n",
      "4           0       3    male  35.0      0      0   8.0500        S    man   \n",
      "..        ...     ...     ...   ...    ...    ...      ...      ...    ...   \n",
      "886         0       2    male  27.0      0      0  13.0000        S    man   \n",
      "887         1       1  female  19.0      0      0  30.0000        S  woman   \n",
      "888         0       3  female   NaN      1      2  23.4500        S  woman   \n",
      "889         1       1    male  26.0      0      0  30.0000        C    man   \n",
      "890         0       3    male  32.0      0      0   7.7500        Q    man   \n",
      "\n",
      "     adult_male deck  embark_town alive  alone fareclass  \n",
      "0          True  NaN  Southampton    no  False     Third  \n",
      "1         False    C    Cherbourg   yes  False     First  \n",
      "2         False  NaN  Southampton   yes   True     Third  \n",
      "3         False    C  Southampton   yes  False     First  \n",
      "4          True  NaN  Southampton    no   True     Third  \n",
      "..          ...  ...          ...   ...    ...       ...  \n",
      "886        True  NaN  Southampton    no   True    Second  \n",
      "887       False    B  Southampton   yes   True     First  \n",
      "888       False  NaN  Southampton    no  False     Third  \n",
      "889        True    C    Cherbourg   yes   True     First  \n",
      "890        True  NaN   Queenstown    no   True     Third  \n",
      "\n",
      "[891 rows x 15 columns]\n",
      "fareclass     First    Second     Third\n",
      "sex                                    \n",
      "female     0.968085  0.921053  0.500000\n",
      "male       0.368852  0.157407  0.135447\n"
     ]
    },
    {
     "data": {
      "text/plain": [
       "1      1\n",
       "3      1\n",
       "11     1\n",
       "31     1\n",
       "52     1\n",
       "      ..\n",
       "856    1\n",
       "862    1\n",
       "871    1\n",
       "879    1\n",
       "887    1\n",
       "Name: survived, Length: 94, dtype: int64"
      ]
     },
     "execution_count": 1,
     "metadata": {},
     "output_type": "execute_result"
    }
   ],
   "source": [
    "import pandas as pd\n",
    "import numpy as np\n",
    "import seaborn as sns\n",
    "titanic = sns.load_dataset('titanic')\n",
    "sns.set()\n",
    "\n",
    "titanic['fareclass'] = titanic['class']\n",
    "titanic = titanic.drop(columns = ['class'])\n",
    "print(titanic) #drop 'class' because it clashes with keyword 'class'\n",
    "\n",
    "#calculate survival rate of people of different gender and class\n",
    "print(titanic.pivot_table('survived',index='sex',columns = 'fareclass')) \n",
    "\n",
    "#gets the survived of first class females\n",
    "titanic.query(\"(fareclass == 'First') and (sex == 'female')\")['survived']"
   ]
  },
  {
   "cell_type": "code",
   "execution_count": 2,
   "metadata": {},
   "outputs": [
    {
     "name": "stdout",
     "output_type": "stream",
     "text": [
      "fareclass        First  Second  Third\n",
      "sex    age                           \n",
      "female (0, 18]      11      14     43\n",
      "       (18, 80]     74      60     59\n",
      "male   (0, 18]       5      15     51\n",
      "       (18, 80]     96      84    202\n",
      "fareclass           First    Second     Third\n",
      "sex    age                                   \n",
      "female (0, 18]   0.909091  1.000000  0.511628\n",
      "       (18, 80]  0.972973  0.900000  0.423729\n",
      "male   (0, 18]   0.800000  0.600000  0.215686\n",
      "       (18, 80]  0.375000  0.071429  0.133663\n"
     ]
    }
   ],
   "source": [
    "age_array = titanic['age'].dropna().unique()\n",
    "# for i in age_array:\n",
    "#     print(i)\n",
    "# print(\"_________\")\n",
    "\n",
    "# for i in sorted(age_array):\n",
    "#     print(i)\n",
    "# print(\"_________\")\n",
    "\n",
    "age = pd.cut(titanic['age'],[0,18,80])\n",
    "#no. of survived\n",
    "print(titanic.pivot_table('survived',['sex',age],'fareclass',aggfunc = 'count'))\n",
    "#rate of survival \n",
    "print(titanic.pivot_table('survived',['sex',age],'fareclass')) "
   ]
  },
  {
   "cell_type": "code",
   "execution_count": 3,
   "metadata": {},
   "outputs": [
    {
     "data": {
      "image/png": "[encoded data removed]",
      "text/plain": [
       "<Figure size 432x288 with 1 Axes>"
      ]
     },
     "metadata": {},
     "output_type": "display_data"
    }
   ],
   "source": [
    "import matplotlib.pyplot as plt\n",
    "import plotly.express as px\n",
    "\n",
    "plt.rcParams['font.family'] = 'SimHei'\n",
    "plt.rcParams['axes.unicode_minus'] = False\n",
    "\n",
    "titanic.dropna(subset=['age'],inplace=True)\n",
    "plt.style.use('ggplot')\n",
    "\n",
    "titanic.sort_values(by='pclass',inplace=True)\n",
    "Age = []\n",
    "Levels = titanic.pclass.unique()\n",
    "for pclass in Levels:\n",
    "    Age.append(titanic.loc[titanic.pclass==pclass,'age'])\n",
    "\n",
    "plt.boxplot(x=Age,patch_artist=True,labels=['一等舱','二等舱','三等舱'],showmeans=True,boxprops={'color':'black','facecolor':'#9999ff'},flierprops={'marker':'o','markerfacecolor':'red','color':'black'},meanprops={'marker':'D','markerfacecolor':'indianred'},medianprops={'linestyle':'--','color':'orange'})\n",
    "plt.show()"
   ]
  },
  {
   "cell_type": "code",
   "execution_count": 7,
   "metadata": {},
   "outputs": [
    {
     "data": {
      "application/vnd.plotly.v1+json": {
       "config": {
        "plotlyServerURL": "https://plot.ly"
       },
       "data": [
        {
         "boxmean": true,
         "fillcolor": "rgba(93, 164, 214, 0.5)",
         "jitter": 0.5,
         "line": {
          "width": 1
         },
         "marker": {
          "line": {
           "outlierwidth": 4
          },
          "outliercolor": "rgba(255,0,0,0.6)",
          "size": 2
         },
         "name": "First Class",
         "type": "box",
         "whiskerwidth": 0.2,
         "y": [
          22,
          48,
          50,
          22,
          46,
          25,
          45,
          80,
          36,
          24,
          60,
          22,
          42,
          44,
          58,
          29,
          22,
          17,
          30,
          43,
          45,
          24,
          48,
          40,
          56,
          32,
          50,
          49,
          48,
          24,
          23,
          62,
          61,
          54,
          33,
          36,
          49,
          17,
          39,
          51,
          35,
          17,
          25,
          18,
          11,
          42,
          35,
          21,
          56,
          64,
          61,
          27,
          22,
          16,
          31,
          31,
          58,
          35,
          19,
          37,
          63,
          47,
          70,
          54,
          21,
          36,
          35,
          36,
          26,
          19,
          18,
          24,
          35,
          29,
          2,
          50,
          24,
          0.92,
          40,
          27,
          40,
          52,
          38,
          32,
          18,
          51,
          38,
          36,
          35,
          24,
          33,
          47,
          45,
          37,
          41,
          44,
          38,
          44,
          45.5,
          16,
          37,
          62,
          30,
          36,
          30,
          35,
          29,
          19,
          30,
          71,
          52,
          31,
          34,
          49,
          65,
          4,
          26,
          31,
          48,
          30,
          38,
          60,
          51,
          45,
          64,
          18,
          16,
          36,
          14,
          50,
          45,
          49,
          47,
          33,
          38,
          19,
          35,
          54,
          27,
          50,
          58,
          58,
          49,
          56,
          56,
          40,
          47,
          48,
          28,
          65,
          19,
          40,
          28,
          42,
          52,
          39,
          28,
          60,
          42,
          39,
          21,
          58,
          27,
          55,
          36,
          53,
          38,
          23,
          54,
          28,
          36,
          15,
          71,
          52,
          25,
          47,
          46,
          39,
          24,
          23,
          31,
          39,
          35,
          33,
          30,
          62
         ]
        },
        {
         "boxmean": true,
         "fillcolor": "rgba(255, 144, 14, 0.5)",
         "jitter": 0.5,
         "line": {
          "width": 1
         },
         "marker": {
          "line": {
           "outlierwidth": 4
          },
          "outliercolor": "rgba(255,0,0,0.6)",
          "size": 2
         },
         "name": "Second Class",
         "type": "box",
         "whiskerwidth": 0.2,
         "y": [
          23,
          18,
          54,
          34,
          50,
          25,
          3,
          25,
          24,
          18,
          30,
          48,
          32,
          17,
          43,
          25,
          26,
          52,
          33,
          28,
          23,
          23,
          46,
          24,
          36,
          34,
          22,
          42,
          19,
          28,
          29,
          38,
          31,
          24,
          52,
          27,
          31,
          45,
          45,
          40,
          24,
          39,
          36,
          25,
          60,
          34,
          50,
          36,
          36,
          18,
          30,
          30,
          33,
          13,
          6,
          2,
          70,
          28,
          40,
          28,
          24,
          23,
          25,
          34,
          16,
          34,
          34,
          4,
          62,
          0.83,
          26,
          1,
          29,
          21,
          17,
          32.5,
          28,
          31,
          29,
          25,
          23,
          35,
          18,
          30,
          39,
          36.5,
          42,
          51,
          32.5,
          28,
          54,
          0.83,
          27,
          24,
          14,
          28,
          22,
          25,
          55,
          35,
          34,
          37,
          28,
          66,
          27,
          3,
          24,
          27,
          42,
          29,
          21,
          24,
          5,
          21,
          29,
          47,
          32,
          21,
          44,
          57,
          27,
          19,
          40,
          8,
          19,
          50,
          18,
          28,
          59,
          44,
          8,
          19,
          33,
          29,
          18,
          24,
          54,
          0.67,
          48,
          31,
          50,
          36,
          36,
          4,
          34,
          41,
          30,
          42,
          23,
          36,
          30,
          42,
          27,
          34,
          32,
          32,
          23,
          19,
          3,
          24,
          30,
          7,
          16,
          1,
          54,
          57,
          39,
          35,
          19,
          34,
          31,
          2,
          30
         ]
        },
        {
         "boxmean": true,
         "fillcolor": "rgba(44, 160, 101, 0.5)",
         "jitter": 0.5,
         "line": {
          "width": 1
         },
         "marker": {
          "line": {
           "outlierwidth": 4
          },
          "outliercolor": "rgba(255,0,0,0.6)",
          "size": 2
         },
         "name": "Third Class",
         "type": "box",
         "whiskerwidth": 0.2,
         "y": [
          41,
          20,
          2,
          39,
          19,
          23,
          26,
          26,
          21,
          32,
          21,
          20,
          27,
          18,
          51,
          32,
          9,
          0.75,
          34,
          35,
          21,
          11,
          36,
          15,
          2,
          27,
          27,
          10,
          43,
          23,
          30.5,
          6,
          23,
          39,
          18,
          31,
          27,
          0.42,
          30,
          30,
          31,
          25,
          1,
          26,
          18,
          21,
          32,
          39,
          25,
          22,
          33,
          19,
          20,
          15,
          47,
          26,
          4,
          41,
          24,
          18,
          9,
          74,
          4,
          35,
          42,
          17,
          34.5,
          20,
          8,
          40,
          18,
          25,
          19,
          29,
          26,
          25,
          18,
          42,
          44,
          25,
          4,
          33,
          18,
          14,
          14,
          20,
          43,
          18,
          24.5,
          18,
          43,
          20,
          19,
          17,
          20,
          25,
          13,
          5,
          18,
          48,
          24,
          32,
          30.5,
          16,
          20,
          41,
          34,
          28,
          23,
          33,
          6,
          31,
          16,
          31,
          24,
          48,
          28.5,
          25,
          30,
          22,
          44,
          9,
          36,
          18,
          21,
          1,
          4,
          28,
          45,
          9,
          1,
          17,
          26,
          44,
          30,
          16,
          40.5,
          55.5,
          9,
          27,
          19,
          24,
          22,
          16,
          47,
          20,
          4,
          40,
          36,
          19,
          3,
          29,
          41,
          30,
          29,
          25,
          30,
          22,
          5,
          29,
          20.5,
          22,
          33,
          51,
          27,
          22,
          24,
          16,
          26,
          32,
          2,
          18,
          45.5,
          34,
          28,
          42,
          16,
          16,
          45,
          12,
          4,
          22,
          11,
          28.5,
          21,
          7,
          18,
          19,
          40,
          14,
          18,
          21,
          38,
          8,
          15,
          31,
          2,
          14,
          39,
          20,
          4,
          27,
          2,
          35,
          26,
          19,
          17,
          26,
          16,
          2,
          70.5,
          21,
          17,
          20,
          22,
          14.5,
          38,
          21,
          28,
          37,
          33,
          24,
          28,
          26,
          20,
          29,
          24,
          16,
          33,
          29,
          22,
          30,
          25,
          32,
          26,
          59,
          36,
          25,
          45,
          21,
          17,
          24,
          21,
          21,
          9,
          30,
          63,
          50,
          9,
          2,
          22,
          29,
          22,
          38,
          0.75,
          38,
          34,
          29,
          5,
          25,
          20,
          21,
          17,
          32,
          37,
          28,
          26,
          29,
          49,
          36,
          47,
          35,
          22,
          32,
          19,
          16,
          32,
          29,
          19,
          24,
          18,
          40,
          22,
          22,
          33,
          11,
          9,
          30,
          17,
          39,
          40.5,
          22,
          32,
          24,
          36,
          25,
          28,
          21,
          23,
          42,
          3,
          45,
          16,
          31,
          61,
          27,
          22,
          26,
          28,
          19,
          23.5,
          24,
          24,
          22,
          22,
          30,
          33,
          19,
          16,
          28,
          65,
          35,
          7,
          15,
          25,
          28,
          40,
          10,
          44,
          21,
          51,
          20,
          28,
          21,
          26,
          39,
          31,
          22,
          24,
          29,
          28,
          1,
          32,
          1,
          19,
          20,
          22,
          3,
          19,
          18,
          30,
          35,
          45,
          21,
          32
         ]
        }
       ],
       "layout": {
        "margin": {
         "b": 80,
         "l": 40,
         "r": 30,
         "t": 100
        },
        "paper_bgcolor": "rgb(243, 243, 243)",
        "plot_bgcolor": "rgb(243, 243, 243)",
        "showlegend": false,
        "template": {
         "data": {
          "bar": [
           {
            "error_x": {
             "color": "#2a3f5f"
            },
            "error_y": {
             "color": "#2a3f5f"
            },
            "marker": {
             "line": {
              "color": "#E5ECF6",
              "width": 0.5
             }
            },
            "type": "bar"
           }
          ],
          "barpolar": [
           {
            "marker": {
             "line": {
              "color": "#E5ECF6",
              "width": 0.5
             }
            },
            "type": "barpolar"
           }
          ],
          "carpet": [
           {
            "aaxis": {
             "endlinecolor": "#2a3f5f",
             "gridcolor": "white",
             "linecolor": "white",
             "minorgridcolor": "white",
             "startlinecolor": "#2a3f5f"
            },
            "baxis": {
             "endlinecolor": "#2a3f5f",
             "gridcolor": "white",
             "linecolor": "white",
             "minorgridcolor": "white",
             "startlinecolor": "#2a3f5f"
            },
            "type": "carpet"
           }
          ],
          "choropleth": [
           {
            "colorbar": {
             "outlinewidth": 0,
             "ticks": ""
            },
            "type": "choropleth"
           }
          ],
          "contour": [
           {
            "colorbar": {
             "outlinewidth": 0,
             "ticks": ""
            },
            "colorscale": [
             [
              0,
              "#0d0887"
             ],
             [
              0.1111111111111111,
              "#46039f"
             ],
             [
              0.2222222222222222,
              "#7201a8"
             ],
             [
              0.3333333333333333,
              "#9c179e"
             ],
             [
              0.4444444444444444,
              "#bd3786"
             ],
             [
              0.5555555555555556,
              "#d8576b"
             ],
             [
              0.6666666666666666,
              "#ed7953"
             ],
             [
              0.7777777777777778,
              "#fb9f3a"
             ],
             [
              0.8888888888888888,
              "#fdca26"
             ],
             [
              1,
              "#f0f921"
             ]
            ],
            "type": "contour"
           }
          ],
          "contourcarpet": [
           {
            "colorbar": {
             "outlinewidth": 0,
             "ticks": ""
            },
            "type": "contourcarpet"
           }
          ],
          "heatmap": [
           {
            "colorbar": {
             "outlinewidth": 0,
             "ticks": ""
            },
            "colorscale": [
             [
              0,
              "#0d0887"
             ],
             [
              0.1111111111111111,
              "#46039f"
             ],
             [
              0.2222222222222222,
              "#7201a8"
             ],
             [
              0.3333333333333333,
              "#9c179e"
             ],
             [
              0.4444444444444444,
              "#bd3786"
             ],
             [
              0.5555555555555556,
              "#d8576b"
             ],
             [
              0.6666666666666666,
              "#ed7953"
             ],
             [
              0.7777777777777778,
              "#fb9f3a"
             ],
             [
              0.8888888888888888,
              "#fdca26"
             ],
             [
              1,
              "#f0f921"
             ]
            ],
            "type": "heatmap"
           }
          ],
          "heatmapgl": [
           {
            "colorbar": {
             "outlinewidth": 0,
             "ticks": ""
            },
            "colorscale": [
             [
              0,
              "#0d0887"
             ],
             [
              0.1111111111111111,
              "#46039f"
             ],
             [
              0.2222222222222222,
              "#7201a8"
             ],
             [
              0.3333333333333333,
              "#9c179e"
             ],
             [
              0.4444444444444444,
              "#bd3786"
             ],
             [
              0.5555555555555556,
              "#d8576b"
             ],
             [
              0.6666666666666666,
              "#ed7953"
             ],
             [
              0.7777777777777778,
              "#fb9f3a"
             ],
             [
              0.8888888888888888,
              "#fdca26"
             ],
             [
              1,
              "#f0f921"
             ]
            ],
            "type": "heatmapgl"
           }
          ],
          "histogram": [
           {
            "marker": {
             "colorbar": {
              "outlinewidth": 0,
              "ticks": ""
             }
            },
            "type": "histogram"
           }
          ],
          "histogram2d": [
           {
            "colorbar": {
             "outlinewidth": 0,
             "ticks": ""
            },
            "colorscale": [
             [
              0,
              "#0d0887"
             ],
             [
              0.1111111111111111,
              "#46039f"
             ],
             [
              0.2222222222222222,
              "#7201a8"
             ],
             [
              0.3333333333333333,
              "#9c179e"
             ],
             [
              0.4444444444444444,
              "#bd3786"
             ],
             [
              0.5555555555555556,
              "#d8576b"
             ],
             [
              0.6666666666666666,
              "#ed7953"
             ],
             [
              0.7777777777777778,
              "#fb9f3a"
             ],
             [
              0.8888888888888888,
              "#fdca26"
             ],
             [
              1,
              "#f0f921"
             ]
            ],
            "type": "histogram2d"
           }
          ],
          "histogram2dcontour": [
           {
            "colorbar": {
             "outlinewidth": 0,
             "ticks": ""
            },
            "colorscale": [
             [
              0,
              "#0d0887"
             ],
             [
              0.1111111111111111,
              "#46039f"
             ],
             [
              0.2222222222222222,
              "#7201a8"
             ],
             [
              0.3333333333333333,
              "#9c179e"
             ],
             [
              0.4444444444444444,
              "#bd3786"
             ],
             [
              0.5555555555555556,
              "#d8576b"
             ],
             [
              0.6666666666666666,
              "#ed7953"
             ],
             [
              0.7777777777777778,
              "#fb9f3a"
             ],
             [
              0.8888888888888888,
              "#fdca26"
             ],
             [
              1,
              "#f0f921"
             ]
            ],
            "type": "histogram2dcontour"
           }
          ],
          "mesh3d": [
           {
            "colorbar": {
             "outlinewidth": 0,
             "ticks": ""
            },
            "type": "mesh3d"
           }
          ],
          "parcoords": [
           {
            "line": {
             "colorbar": {
              "outlinewidth": 0,
              "ticks": ""
             }
            },
            "type": "parcoords"
           }
          ],
          "pie": [
           {
            "automargin": true,
            "type": "pie"
           }
          ],
          "scatter": [
           {
            "marker": {
             "colorbar": {
              "outlinewidth": 0,
              "ticks": ""
             }
            },
            "type": "scatter"
           }
          ],
          "scatter3d": [
           {
            "line": {
             "colorbar": {
              "outlinewidth": 0,
              "ticks": ""
             }
            },
            "marker": {
             "colorbar": {
              "outlinewidth": 0,
              "ticks": ""
             }
            },
            "type": "scatter3d"
           }
          ],
          "scattercarpet": [
           {
            "marker": {
             "colorbar": {
              "outlinewidth": 0,
              "ticks": ""
             }
            },
            "type": "scattercarpet"
           }
          ],
          "scattergeo": [
           {
            "marker": {
             "colorbar": {
              "outlinewidth": 0,
              "ticks": ""
             }
            },
            "type": "scattergeo"
           }
          ],
          "scattergl": [
           {
            "marker": {
             "colorbar": {
              "outlinewidth": 0,
              "ticks": ""
             }
            },
            "type": "scattergl"
           }
          ],
          "scattermapbox": [
           {
            "marker": {
             "colorbar": {
              "outlinewidth": 0,
              "ticks": ""
             }
            },
            "type": "scattermapbox"
           }
          ],
          "scatterpolar": [
           {
            "marker": {
             "colorbar": {
              "outlinewidth": 0,
              "ticks": ""
             }
            },
            "type": "scatterpolar"
           }
          ],
          "scatterpolargl": [
           {
            "marker": {
             "colorbar": {
              "outlinewidth": 0,
              "ticks": ""
             }
            },
            "type": "scatterpolargl"
           }
          ],
          "scatterternary": [
           {
            "marker": {
             "colorbar": {
              "outlinewidth": 0,
              "ticks": ""
             }
            },
            "type": "scatterternary"
           }
          ],
          "surface": [
           {
            "colorbar": {
             "outlinewidth": 0,
             "ticks": ""
            },
            "colorscale": [
             [
              0,
              "#0d0887"
             ],
             [
              0.1111111111111111,
              "#46039f"
             ],
             [
              0.2222222222222222,
              "#7201a8"
             ],
             [
              0.3333333333333333,
              "#9c179e"
             ],
             [
              0.4444444444444444,
              "#bd3786"
             ],
             [
              0.5555555555555556,
              "#d8576b"
             ],
             [
              0.6666666666666666,
              "#ed7953"
             ],
             [
              0.7777777777777778,
              "#fb9f3a"
             ],
             [
              0.8888888888888888,
              "#fdca26"
             ],
             [
              1,
              "#f0f921"
             ]
            ],
            "type": "surface"
           }
          ],
          "table": [
           {
            "cells": {
             "fill": {
              "color": "#EBF0F8"
             },
             "line": {
              "color": "white"
             }
            },
            "header": {
             "fill": {
              "color": "#C8D4E3"
             },
             "line": {
              "color": "white"
             }
            },
            "type": "table"
           }
          ]
         },
         "layout": {
          "annotationdefaults": {
           "arrowcolor": "#2a3f5f",
           "arrowhead": 0,
           "arrowwidth": 1
          },
          "coloraxis": {
           "colorbar": {
            "outlinewidth": 0,
            "ticks": ""
           }
          },
          "colorscale": {
           "diverging": [
            [
             0,
             "#8e0152"
            ],
            [
             0.1,
             "#c51b7d"
            ],
            [
             0.2,
             "#de77ae"
            ],
            [
             0.3,
             "#f1b6da"
            ],
            [
             0.4,
             "#fde0ef"
            ],
            [
             0.5,
             "#f7f7f7"
            ],
            [
             0.6,
             "#e6f5d0"
            ],
            [
             0.7,
             "#b8e186"
            ],
            [
             0.8,
             "#7fbc41"
            ],
            [
             0.9,
             "#4d9221"
            ],
            [
             1,
             "#276419"
            ]
           ],
           "sequential": [
            [
             0,
             "#0d0887"
            ],
            [
             0.1111111111111111,
             "#46039f"
            ],
            [
             0.2222222222222222,
             "#7201a8"
            ],
            [
             0.3333333333333333,
             "#9c179e"
            ],
            [
             0.4444444444444444,
             "#bd3786"
            ],
            [
             0.5555555555555556,
             "#d8576b"
            ],
            [
             0.6666666666666666,
             "#ed7953"
            ],
            [
             0.7777777777777778,
             "#fb9f3a"
            ],
            [
             0.8888888888888888,
             "#fdca26"
            ],
            [
             1,
             "#f0f921"
            ]
           ],
           "sequentialminus": [
            [
             0,
             "#0d0887"
            ],
            [
             0.1111111111111111,
             "#46039f"
            ],
            [
             0.2222222222222222,
             "#7201a8"
            ],
            [
             0.3333333333333333,
             "#9c179e"
            ],
            [
             0.4444444444444444,
             "#bd3786"
            ],
            [
             0.5555555555555556,
             "#d8576b"
            ],
            [
             0.6666666666666666,
             "#ed7953"
            ],
            [
             0.7777777777777778,
             "#fb9f3a"
            ],
            [
             0.8888888888888888,
             "#fdca26"
            ],
            [
             1,
             "#f0f921"
            ]
           ]
          },
          "colorway": [
           "#636efa",
           "#EF553B",
           "#00cc96",
           "#ab63fa",
           "#FFA15A",
           "#19d3f3",
           "#FF6692",
           "#B6E880",
           "#FF97FF",
           "#FECB52"
          ],
          "font": {
           "color": "#2a3f5f"
          },
          "geo": {
           "bgcolor": "white",
           "lakecolor": "white",
           "landcolor": "#E5ECF6",
           "showlakes": true,
           "showland": true,
           "subunitcolor": "white"
          },
          "hoverlabel": {
           "align": "left"
          },
          "hovermode": "closest",
          "mapbox": {
           "style": "light"
          },
          "paper_bgcolor": "white",
          "plot_bgcolor": "#E5ECF6",
          "polar": {
           "angularaxis": {
            "gridcolor": "white",
            "linecolor": "white",
            "ticks": ""
           },
           "bgcolor": "#E5ECF6",
           "radialaxis": {
            "gridcolor": "white",
            "linecolor": "white",
            "ticks": ""
           }
          },
          "scene": {
           "xaxis": {
            "backgroundcolor": "#E5ECF6",
            "gridcolor": "white",
            "gridwidth": 2,
            "linecolor": "white",
            "showbackground": true,
            "ticks": "",
            "zerolinecolor": "white"
           },
           "yaxis": {
            "backgroundcolor": "#E5ECF6",
            "gridcolor": "white",
            "gridwidth": 2,
            "linecolor": "white",
            "showbackground": true,
            "ticks": "",
            "zerolinecolor": "white"
           },
           "zaxis": {
            "backgroundcolor": "#E5ECF6",
            "gridcolor": "white",
            "gridwidth": 2,
            "linecolor": "white",
            "showbackground": true,
            "ticks": "",
            "zerolinecolor": "white"
           }
          },
          "shapedefaults": {
           "line": {
            "color": "#2a3f5f"
           }
          },
          "ternary": {
           "aaxis": {
            "gridcolor": "white",
            "linecolor": "white",
            "ticks": ""
           },
           "baxis": {
            "gridcolor": "white",
            "linecolor": "white",
            "ticks": ""
           },
           "bgcolor": "#E5ECF6",
           "caxis": {
            "gridcolor": "white",
            "linecolor": "white",
            "ticks": ""
           }
          },
          "title": {
           "x": 0.05
          },
          "xaxis": {
           "automargin": true,
           "gridcolor": "white",
           "linecolor": "white",
           "ticks": "",
           "title": {
            "standoff": 15
           },
           "zerolinecolor": "white",
           "zerolinewidth": 2
          },
          "yaxis": {
           "automargin": true,
           "gridcolor": "white",
           "linecolor": "white",
           "ticks": "",
           "title": {
            "standoff": 15
           },
           "zerolinecolor": "white",
           "zerolinewidth": 2
          }
         }
        },
        "title": {
         "text": "Age of passengers in each Class onboard the Titanic"
        },
        "yaxis": {
         "autorange": true,
         "dtick": 5,
         "gridcolor": "rgb(255, 255, 255)",
         "gridwidth": 1,
         "showgrid": true,
         "zeroline": true,
         "zerolinecolor": "rgb(255, 255, 255)",
         "zerolinewidth": 2
        }
       }
      },
      "text/html": [
       "<div>\n",
       "        \n",
       "        \n",
       "            <div id=\"90d1b576-2536-44ca-ad29-ee1b8e412845\" class=\"plotly-graph-div\" style=\"height:525px; width:100%;\"></div>\n",
       "            <script type=\"text/javascript\">\n",
       "                require([\"plotly\"], function(Plotly) {\n",
       "                    window.PLOTLYENV=window.PLOTLYENV || {};\n",
       "                    \n",
       "                if (document.getElementById(\"90d1b576-2536-44ca-ad29-ee1b8e412845\")) {\n",
       "                    Plotly.newPlot(\n",
       "                        '90d1b576-2536-44ca-ad29-ee1b8e412845',\n",
       "                        [{\"boxmean\": true, \"fillcolor\": \"rgba(93, 164, 214, 0.5)\", \"jitter\": 0.5, \"line\": {\"width\": 1}, \"marker\": {\"line\": {\"outlierwidth\": 4}, \"outliercolor\": \"rgba(255,0,0,0.6)\", \"size\": 2}, \"name\": \"First Class\", \"type\": \"box\", \"whiskerwidth\": 0.2, \"y\": [22.0, 48.0, 50.0, 22.0, 46.0, 25.0, 45.0, 80.0, 36.0, 24.0, 60.0, 22.0, 42.0, 44.0, 58.0, 29.0, 22.0, 17.0, 30.0, 43.0, 45.0, 24.0, 48.0, 40.0, 56.0, 32.0, 50.0, 49.0, 48.0, 24.0, 23.0, 62.0, 61.0, 54.0, 33.0, 36.0, 49.0, 17.0, 39.0, 51.0, 35.0, 17.0, 25.0, 18.0, 11.0, 42.0, 35.0, 21.0, 56.0, 64.0, 61.0, 27.0, 22.0, 16.0, 31.0, 31.0, 58.0, 35.0, 19.0, 37.0, 63.0, 47.0, 70.0, 54.0, 21.0, 36.0, 35.0, 36.0, 26.0, 19.0, 18.0, 24.0, 35.0, 29.0, 2.0, 50.0, 24.0, 0.92, 40.0, 27.0, 40.0, 52.0, 38.0, 32.0, 18.0, 51.0, 38.0, 36.0, 35.0, 24.0, 33.0, 47.0, 45.0, 37.0, 41.0, 44.0, 38.0, 44.0, 45.5, 16.0, 37.0, 62.0, 30.0, 36.0, 30.0, 35.0, 29.0, 19.0, 30.0, 71.0, 52.0, 31.0, 34.0, 49.0, 65.0, 4.0, 26.0, 31.0, 48.0, 30.0, 38.0, 60.0, 51.0, 45.0, 64.0, 18.0, 16.0, 36.0, 14.0, 50.0, 45.0, 49.0, 47.0, 33.0, 38.0, 19.0, 35.0, 54.0, 27.0, 50.0, 58.0, 58.0, 49.0, 56.0, 56.0, 40.0, 47.0, 48.0, 28.0, 65.0, 19.0, 40.0, 28.0, 42.0, 52.0, 39.0, 28.0, 60.0, 42.0, 39.0, 21.0, 58.0, 27.0, 55.0, 36.0, 53.0, 38.0, 23.0, 54.0, 28.0, 36.0, 15.0, 71.0, 52.0, 25.0, 47.0, 46.0, 39.0, 24.0, 23.0, 31.0, 39.0, 35.0, 33.0, 30.0, 62.0]}, {\"boxmean\": true, \"fillcolor\": \"rgba(255, 144, 14, 0.5)\", \"jitter\": 0.5, \"line\": {\"width\": 1}, \"marker\": {\"line\": {\"outlierwidth\": 4}, \"outliercolor\": \"rgba(255,0,0,0.6)\", \"size\": 2}, \"name\": \"Second Class\", \"type\": \"box\", \"whiskerwidth\": 0.2, \"y\": [23.0, 18.0, 54.0, 34.0, 50.0, 25.0, 3.0, 25.0, 24.0, 18.0, 30.0, 48.0, 32.0, 17.0, 43.0, 25.0, 26.0, 52.0, 33.0, 28.0, 23.0, 23.0, 46.0, 24.0, 36.0, 34.0, 22.0, 42.0, 19.0, 28.0, 29.0, 38.0, 31.0, 24.0, 52.0, 27.0, 31.0, 45.0, 45.0, 40.0, 24.0, 39.0, 36.0, 25.0, 60.0, 34.0, 50.0, 36.0, 36.0, 18.0, 30.0, 30.0, 33.0, 13.0, 6.0, 2.0, 70.0, 28.0, 40.0, 28.0, 24.0, 23.0, 25.0, 34.0, 16.0, 34.0, 34.0, 4.0, 62.0, 0.83, 26.0, 1.0, 29.0, 21.0, 17.0, 32.5, 28.0, 31.0, 29.0, 25.0, 23.0, 35.0, 18.0, 30.0, 39.0, 36.5, 42.0, 51.0, 32.5, 28.0, 54.0, 0.83, 27.0, 24.0, 14.0, 28.0, 22.0, 25.0, 55.0, 35.0, 34.0, 37.0, 28.0, 66.0, 27.0, 3.0, 24.0, 27.0, 42.0, 29.0, 21.0, 24.0, 5.0, 21.0, 29.0, 47.0, 32.0, 21.0, 44.0, 57.0, 27.0, 19.0, 40.0, 8.0, 19.0, 50.0, 18.0, 28.0, 59.0, 44.0, 8.0, 19.0, 33.0, 29.0, 18.0, 24.0, 54.0, 0.67, 48.0, 31.0, 50.0, 36.0, 36.0, 4.0, 34.0, 41.0, 30.0, 42.0, 23.0, 36.0, 30.0, 42.0, 27.0, 34.0, 32.0, 32.0, 23.0, 19.0, 3.0, 24.0, 30.0, 7.0, 16.0, 1.0, 54.0, 57.0, 39.0, 35.0, 19.0, 34.0, 31.0, 2.0, 30.0]}, {\"boxmean\": true, \"fillcolor\": \"rgba(44, 160, 101, 0.5)\", \"jitter\": 0.5, \"line\": {\"width\": 1}, \"marker\": {\"line\": {\"outlierwidth\": 4}, \"outliercolor\": \"rgba(255,0,0,0.6)\", \"size\": 2}, \"name\": \"Third Class\", \"type\": \"box\", \"whiskerwidth\": 0.2, \"y\": [41.0, 20.0, 2.0, 39.0, 19.0, 23.0, 26.0, 26.0, 21.0, 32.0, 21.0, 20.0, 27.0, 18.0, 51.0, 32.0, 9.0, 0.75, 34.0, 35.0, 21.0, 11.0, 36.0, 15.0, 2.0, 27.0, 27.0, 10.0, 43.0, 23.0, 30.5, 6.0, 23.0, 39.0, 18.0, 31.0, 27.0, 0.42, 30.0, 30.0, 31.0, 25.0, 1.0, 26.0, 18.0, 21.0, 32.0, 39.0, 25.0, 22.0, 33.0, 19.0, 20.0, 15.0, 47.0, 26.0, 4.0, 41.0, 24.0, 18.0, 9.0, 74.0, 4.0, 35.0, 42.0, 17.0, 34.5, 20.0, 8.0, 40.0, 18.0, 25.0, 19.0, 29.0, 26.0, 25.0, 18.0, 42.0, 44.0, 25.0, 4.0, 33.0, 18.0, 14.0, 14.0, 20.0, 43.0, 18.0, 24.5, 18.0, 43.0, 20.0, 19.0, 17.0, 20.0, 25.0, 13.0, 5.0, 18.0, 48.0, 24.0, 32.0, 30.5, 16.0, 20.0, 41.0, 34.0, 28.0, 23.0, 33.0, 6.0, 31.0, 16.0, 31.0, 24.0, 48.0, 28.5, 25.0, 30.0, 22.0, 44.0, 9.0, 36.0, 18.0, 21.0, 1.0, 4.0, 28.0, 45.0, 9.0, 1.0, 17.0, 26.0, 44.0, 30.0, 16.0, 40.5, 55.5, 9.0, 27.0, 19.0, 24.0, 22.0, 16.0, 47.0, 20.0, 4.0, 40.0, 36.0, 19.0, 3.0, 29.0, 41.0, 30.0, 29.0, 25.0, 30.0, 22.0, 5.0, 29.0, 20.5, 22.0, 33.0, 51.0, 27.0, 22.0, 24.0, 16.0, 26.0, 32.0, 2.0, 18.0, 45.5, 34.0, 28.0, 42.0, 16.0, 16.0, 45.0, 12.0, 4.0, 22.0, 11.0, 28.5, 21.0, 7.0, 18.0, 19.0, 40.0, 14.0, 18.0, 21.0, 38.0, 8.0, 15.0, 31.0, 2.0, 14.0, 39.0, 20.0, 4.0, 27.0, 2.0, 35.0, 26.0, 19.0, 17.0, 26.0, 16.0, 2.0, 70.5, 21.0, 17.0, 20.0, 22.0, 14.5, 38.0, 21.0, 28.0, 37.0, 33.0, 24.0, 28.0, 26.0, 20.0, 29.0, 24.0, 16.0, 33.0, 29.0, 22.0, 30.0, 25.0, 32.0, 26.0, 59.0, 36.0, 25.0, 45.0, 21.0, 17.0, 24.0, 21.0, 21.0, 9.0, 30.0, 63.0, 50.0, 9.0, 2.0, 22.0, 29.0, 22.0, 38.0, 0.75, 38.0, 34.0, 29.0, 5.0, 25.0, 20.0, 21.0, 17.0, 32.0, 37.0, 28.0, 26.0, 29.0, 49.0, 36.0, 47.0, 35.0, 22.0, 32.0, 19.0, 16.0, 32.0, 29.0, 19.0, 24.0, 18.0, 40.0, 22.0, 22.0, 33.0, 11.0, 9.0, 30.0, 17.0, 39.0, 40.5, 22.0, 32.0, 24.0, 36.0, 25.0, 28.0, 21.0, 23.0, 42.0, 3.0, 45.0, 16.0, 31.0, 61.0, 27.0, 22.0, 26.0, 28.0, 19.0, 23.5, 24.0, 24.0, 22.0, 22.0, 30.0, 33.0, 19.0, 16.0, 28.0, 65.0, 35.0, 7.0, 15.0, 25.0, 28.0, 40.0, 10.0, 44.0, 21.0, 51.0, 20.0, 28.0, 21.0, 26.0, 39.0, 31.0, 22.0, 24.0, 29.0, 28.0, 1.0, 32.0, 1.0, 19.0, 20.0, 22.0, 3.0, 19.0, 18.0, 30.0, 35.0, 45.0, 21.0, 32.0]}],\n",
       "                        {\"margin\": {\"b\": 80, \"l\": 40, \"r\": 30, \"t\": 100}, \"paper_bgcolor\": \"rgb(243, 243, 243)\", \"plot_bgcolor\": \"rgb(243, 243, 243)\", \"showlegend\": false, \"template\": {\"data\": {\"bar\": [{\"error_x\": {\"color\": \"#2a3f5f\"}, \"error_y\": {\"color\": \"#2a3f5f\"}, \"marker\": {\"line\": {\"color\": \"#E5ECF6\", \"width\": 0.5}}, \"type\": \"bar\"}], \"barpolar\": [{\"marker\": {\"line\": {\"color\": \"#E5ECF6\", \"width\": 0.5}}, \"type\": \"barpolar\"}], \"carpet\": [{\"aaxis\": {\"endlinecolor\": \"#2a3f5f\", \"gridcolor\": \"white\", \"linecolor\": \"white\", \"minorgridcolor\": \"white\", \"startlinecolor\": \"#2a3f5f\"}, \"baxis\": {\"endlinecolor\": \"#2a3f5f\", \"gridcolor\": \"white\", \"linecolor\": \"white\", \"minorgridcolor\": \"white\", \"startlinecolor\": \"#2a3f5f\"}, \"type\": \"carpet\"}], \"choropleth\": [{\"colorbar\": {\"outlinewidth\": 0, \"ticks\": \"\"}, \"type\": \"choropleth\"}], \"contour\": [{\"colorbar\": {\"outlinewidth\": 0, \"ticks\": \"\"}, \"colorscale\": [[0.0, \"#0d0887\"], [0.1111111111111111, \"#46039f\"], [0.2222222222222222, \"#7201a8\"], [0.3333333333333333, \"#9c179e\"], [0.4444444444444444, \"#bd3786\"], [0.5555555555555556, \"#d8576b\"], [0.6666666666666666, \"#ed7953\"], [0.7777777777777778, \"#fb9f3a\"], [0.8888888888888888, \"#fdca26\"], [1.0, \"#f0f921\"]], \"type\": \"contour\"}], \"contourcarpet\": [{\"colorbar\": {\"outlinewidth\": 0, \"ticks\": \"\"}, \"type\": \"contourcarpet\"}], \"heatmap\": [{\"colorbar\": {\"outlinewidth\": 0, \"ticks\": \"\"}, \"colorscale\": [[0.0, \"#0d0887\"], [0.1111111111111111, \"#46039f\"], [0.2222222222222222, \"#7201a8\"], [0.3333333333333333, \"#9c179e\"], [0.4444444444444444, \"#bd3786\"], [0.5555555555555556, \"#d8576b\"], [0.6666666666666666, \"#ed7953\"], [0.7777777777777778, \"#fb9f3a\"], [0.8888888888888888, \"#fdca26\"], [1.0, \"#f0f921\"]], \"type\": \"heatmap\"}], \"heatmapgl\": [{\"colorbar\": {\"outlinewidth\": 0, \"ticks\": \"\"}, \"colorscale\": [[0.0, \"#0d0887\"], [0.1111111111111111, \"#46039f\"], [0.2222222222222222, \"#7201a8\"], [0.3333333333333333, \"#9c179e\"], [0.4444444444444444, \"#bd3786\"], [0.5555555555555556, \"#d8576b\"], [0.6666666666666666, \"#ed7953\"], [0.7777777777777778, \"#fb9f3a\"], [0.8888888888888888, \"#fdca26\"], [1.0, \"#f0f921\"]], \"type\": \"heatmapgl\"}], \"histogram\": [{\"marker\": {\"colorbar\": {\"outlinewidth\": 0, \"ticks\": \"\"}}, \"type\": \"histogram\"}], \"histogram2d\": [{\"colorbar\": {\"outlinewidth\": 0, \"ticks\": \"\"}, \"colorscale\": [[0.0, \"#0d0887\"], [0.1111111111111111, \"#46039f\"], [0.2222222222222222, \"#7201a8\"], [0.3333333333333333, \"#9c179e\"], [0.4444444444444444, \"#bd3786\"], [0.5555555555555556, \"#d8576b\"], [0.6666666666666666, \"#ed7953\"], [0.7777777777777778, \"#fb9f3a\"], [0.8888888888888888, \"#fdca26\"], [1.0, \"#f0f921\"]], \"type\": \"histogram2d\"}], \"histogram2dcontour\": [{\"colorbar\": {\"outlinewidth\": 0, \"ticks\": \"\"}, \"colorscale\": [[0.0, \"#0d0887\"], [0.1111111111111111, \"#46039f\"], [0.2222222222222222, \"#7201a8\"], [0.3333333333333333, \"#9c179e\"], [0.4444444444444444, \"#bd3786\"], [0.5555555555555556, \"#d8576b\"], [0.6666666666666666, \"#ed7953\"], [0.7777777777777778, \"#fb9f3a\"], [0.8888888888888888, \"#fdca26\"], [1.0, \"#f0f921\"]], \"type\": \"histogram2dcontour\"}], \"mesh3d\": [{\"colorbar\": {\"outlinewidth\": 0, \"ticks\": \"\"}, \"type\": \"mesh3d\"}], \"parcoords\": [{\"line\": {\"colorbar\": {\"outlinewidth\": 0, \"ticks\": \"\"}}, \"type\": \"parcoords\"}], \"pie\": [{\"automargin\": true, \"type\": \"pie\"}], \"scatter\": [{\"marker\": {\"colorbar\": {\"outlinewidth\": 0, \"ticks\": \"\"}}, \"type\": \"scatter\"}], \"scatter3d\": [{\"line\": {\"colorbar\": {\"outlinewidth\": 0, \"ticks\": \"\"}}, \"marker\": {\"colorbar\": {\"outlinewidth\": 0, \"ticks\": \"\"}}, \"type\": \"scatter3d\"}], \"scattercarpet\": [{\"marker\": {\"colorbar\": {\"outlinewidth\": 0, \"ticks\": \"\"}}, \"type\": \"scattercarpet\"}], \"scattergeo\": [{\"marker\": {\"colorbar\": {\"outlinewidth\": 0, \"ticks\": \"\"}}, \"type\": \"scattergeo\"}], \"scattergl\": [{\"marker\": {\"colorbar\": {\"outlinewidth\": 0, \"ticks\": \"\"}}, \"type\": \"scattergl\"}], \"scattermapbox\": [{\"marker\": {\"colorbar\": {\"outlinewidth\": 0, \"ticks\": \"\"}}, \"type\": \"scattermapbox\"}], \"scatterpolar\": [{\"marker\": {\"colorbar\": {\"outlinewidth\": 0, \"ticks\": \"\"}}, \"type\": \"scatterpolar\"}], \"scatterpolargl\": [{\"marker\": {\"colorbar\": {\"outlinewidth\": 0, \"ticks\": \"\"}}, \"type\": \"scatterpolargl\"}], \"scatterternary\": [{\"marker\": {\"colorbar\": {\"outlinewidth\": 0, \"ticks\": \"\"}}, \"type\": \"scatterternary\"}], \"surface\": [{\"colorbar\": {\"outlinewidth\": 0, \"ticks\": \"\"}, \"colorscale\": [[0.0, \"#0d0887\"], [0.1111111111111111, \"#46039f\"], [0.2222222222222222, \"#7201a8\"], [0.3333333333333333, \"#9c179e\"], [0.4444444444444444, \"#bd3786\"], [0.5555555555555556, \"#d8576b\"], [0.6666666666666666, \"#ed7953\"], [0.7777777777777778, \"#fb9f3a\"], [0.8888888888888888, \"#fdca26\"], [1.0, \"#f0f921\"]], \"type\": \"surface\"}], \"table\": [{\"cells\": {\"fill\": {\"color\": \"#EBF0F8\"}, \"line\": {\"color\": \"white\"}}, \"header\": {\"fill\": {\"color\": \"#C8D4E3\"}, \"line\": {\"color\": \"white\"}}, \"type\": \"table\"}]}, \"layout\": {\"annotationdefaults\": {\"arrowcolor\": \"#2a3f5f\", \"arrowhead\": 0, \"arrowwidth\": 1}, \"coloraxis\": {\"colorbar\": {\"outlinewidth\": 0, \"ticks\": \"\"}}, \"colorscale\": {\"diverging\": [[0, \"#8e0152\"], [0.1, \"#c51b7d\"], [0.2, \"#de77ae\"], [0.3, \"#f1b6da\"], [0.4, \"#fde0ef\"], [0.5, \"#f7f7f7\"], [0.6, \"#e6f5d0\"], [0.7, \"#b8e186\"], [0.8, \"#7fbc41\"], [0.9, \"#4d9221\"], [1, \"#276419\"]], \"sequential\": [[0.0, \"#0d0887\"], [0.1111111111111111, \"#46039f\"], [0.2222222222222222, \"#7201a8\"], [0.3333333333333333, \"#9c179e\"], [0.4444444444444444, \"#bd3786\"], [0.5555555555555556, \"#d8576b\"], [0.6666666666666666, \"#ed7953\"], [0.7777777777777778, \"#fb9f3a\"], [0.8888888888888888, \"#fdca26\"], [1.0, \"#f0f921\"]], \"sequentialminus\": [[0.0, \"#0d0887\"], [0.1111111111111111, \"#46039f\"], [0.2222222222222222, \"#7201a8\"], [0.3333333333333333, \"#9c179e\"], [0.4444444444444444, \"#bd3786\"], [0.5555555555555556, \"#d8576b\"], [0.6666666666666666, \"#ed7953\"], [0.7777777777777778, \"#fb9f3a\"], [0.8888888888888888, \"#fdca26\"], [1.0, \"#f0f921\"]]}, \"colorway\": [\"#636efa\", \"#EF553B\", \"#00cc96\", \"#ab63fa\", \"#FFA15A\", \"#19d3f3\", \"#FF6692\", \"#B6E880\", \"#FF97FF\", \"#FECB52\"], \"font\": {\"color\": \"#2a3f5f\"}, \"geo\": {\"bgcolor\": \"white\", \"lakecolor\": \"white\", \"landcolor\": \"#E5ECF6\", \"showlakes\": true, \"showland\": true, \"subunitcolor\": \"white\"}, \"hoverlabel\": {\"align\": \"left\"}, \"hovermode\": \"closest\", \"mapbox\": {\"style\": \"light\"}, \"paper_bgcolor\": \"white\", \"plot_bgcolor\": \"#E5ECF6\", \"polar\": {\"angularaxis\": {\"gridcolor\": \"white\", \"linecolor\": \"white\", \"ticks\": \"\"}, \"bgcolor\": \"#E5ECF6\", \"radialaxis\": {\"gridcolor\": \"white\", \"linecolor\": \"white\", \"ticks\": \"\"}}, \"scene\": {\"xaxis\": {\"backgroundcolor\": \"#E5ECF6\", \"gridcolor\": \"white\", \"gridwidth\": 2, \"linecolor\": \"white\", \"showbackground\": true, \"ticks\": \"\", \"zerolinecolor\": \"white\"}, \"yaxis\": {\"backgroundcolor\": \"#E5ECF6\", \"gridcolor\": \"white\", \"gridwidth\": 2, \"linecolor\": \"white\", \"showbackground\": true, \"ticks\": \"\", \"zerolinecolor\": \"white\"}, \"zaxis\": {\"backgroundcolor\": \"#E5ECF6\", \"gridcolor\": \"white\", \"gridwidth\": 2, \"linecolor\": \"white\", \"showbackground\": true, \"ticks\": \"\", \"zerolinecolor\": \"white\"}}, \"shapedefaults\": {\"line\": {\"color\": \"#2a3f5f\"}}, \"ternary\": {\"aaxis\": {\"gridcolor\": \"white\", \"linecolor\": \"white\", \"ticks\": \"\"}, \"baxis\": {\"gridcolor\": \"white\", \"linecolor\": \"white\", \"ticks\": \"\"}, \"bgcolor\": \"#E5ECF6\", \"caxis\": {\"gridcolor\": \"white\", \"linecolor\": \"white\", \"ticks\": \"\"}}, \"title\": {\"x\": 0.05}, \"xaxis\": {\"automargin\": true, \"gridcolor\": \"white\", \"linecolor\": \"white\", \"ticks\": \"\", \"title\": {\"standoff\": 15}, \"zerolinecolor\": \"white\", \"zerolinewidth\": 2}, \"yaxis\": {\"automargin\": true, \"gridcolor\": \"white\", \"linecolor\": \"white\", \"ticks\": \"\", \"title\": {\"standoff\": 15}, \"zerolinecolor\": \"white\", \"zerolinewidth\": 2}}}, \"title\": {\"text\": \"Age of passengers in each Class onboard the Titanic\"}, \"yaxis\": {\"autorange\": true, \"dtick\": 5, \"gridcolor\": \"rgb(255, 255, 255)\", \"gridwidth\": 1, \"showgrid\": true, \"zeroline\": true, \"zerolinecolor\": \"rgb(255, 255, 255)\", \"zerolinewidth\": 2}},\n",
       "                        {\"responsive\": true}\n",
       "                    ).then(function(){\n",
       "                            \n",
       "var gd = document.getElementById('90d1b576-2536-44ca-ad29-ee1b8e412845');\n",
       "var x = new MutationObserver(function (mutations, observer) {{\n",
       "        var display = window.getComputedStyle(gd).display;\n",
       "        if (!display || display === 'none') {{\n",
       "            console.log([gd, 'removed!']);\n",
       "            Plotly.purge(gd);\n",
       "            observer.disconnect();\n",
       "        }}\n",
       "}});\n",
       "\n",
       "// Listen for the removal of the full notebook cells\n",
       "var notebookContainer = gd.closest('#notebook-container');\n",
       "if (notebookContainer) {{\n",
       "    x.observe(notebookContainer, {childList: true});\n",
       "}}\n",
       "\n",
       "// Listen for the clearing of the current output cell\n",
       "var outputEl = gd.closest('.output');\n",
       "if (outputEl) {{\n",
       "    x.observe(outputEl, {childList: true});\n",
       "}}\n",
       "\n",
       "                        })\n",
       "                };\n",
       "                });\n",
       "            </script>\n",
       "        </div>"
      ]
     },
     "metadata": {},
     "output_type": "display_data"
    }
   ],
   "source": [
    "import plotly.graph_objects as go\n",
    "\n",
    "x_data = ['First Class','Second Class','Third Class']\n",
    "\n",
    "y_data = Age\n",
    "\n",
    "colors = ['rgba(93, 164, 214, 0.5)', 'rgba(255, 144, 14, 0.5)', 'rgba(44, 160, 101, 0.5)']\n",
    "\n",
    "fig = go.Figure()\n",
    "\n",
    "for xd, yd, cls in zip(x_data, y_data, colors):\n",
    "        fig.add_trace(go.Box(\n",
    "            y=yd,\n",
    "            name=xd,\n",
    "#             boxpoints='all',\n",
    "            jitter=0.5,\n",
    "            whiskerwidth=0.2,\n",
    "            fillcolor=cls,\n",
    "            marker_size=2,\n",
    "            line_width=1,\n",
    "            boxmean=True,\n",
    "            marker=dict(\n",
    "                outliercolor='rgba(255,0,0,0.6)',\n",
    "                line=dict(\n",
    "                    outlierwidth=4)))\n",
    "        )\n",
    "\n",
    "fig.update_layout(\n",
    "    title='Age of passengers in each Class onboard the Titanic',\n",
    "    yaxis=dict(\n",
    "        autorange=True,\n",
    "        showgrid=True,\n",
    "        zeroline=True,\n",
    "        dtick=5,\n",
    "        gridcolor='rgb(255, 255, 255)',\n",
    "        gridwidth=1,\n",
    "        zerolinecolor='rgb(255, 255, 255)',\n",
    "        zerolinewidth=2,\n",
    "    ),\n",
    "    margin=dict(\n",
    "        l=40,\n",
    "        r=30,\n",
    "        b=80,\n",
    "        t=100,\n",
    "    ),\n",
    "    paper_bgcolor='rgb(243, 243, 243)',\n",
    "    plot_bgcolor='rgb(243, 243, 243)',\n",
    "    showlegend=False\n",
    ")\n",
    "\n",
    "fig.show()\n",
    "\n",
    "fig.write_image('../images/fig.png')"
   ]
  },
  {
   "cell_type": "code",
   "execution_count": 6,
   "metadata": {},
   "outputs": [
    {
     "data": {
      "application/vnd.plotly.v1+json": {
       "config": {
        "plotlyServerURL": "https://plot.ly"
       },
       "data": [
        {
         "histnorm": "percent",
         "marker": {
          "color": "#EB89B5"
         },
         "name": "Age",
         "opacity": 0.75,
         "type": "histogram",
         "x": [
          22,
          48,
          50,
          22,
          46,
          25,
          45,
          80,
          36,
          24,
          60,
          22,
          42,
          44,
          58,
          29,
          22,
          17,
          30,
          43,
          45,
          24,
          48,
          40,
          56,
          32,
          50,
          49,
          48,
          24,
          23,
          62,
          61,
          54,
          33,
          36,
          49,
          17,
          39,
          51,
          35,
          17,
          25,
          18,
          11,
          42,
          35,
          21,
          56,
          64,
          61,
          27,
          22,
          16,
          31,
          31,
          58,
          35,
          19,
          37,
          63,
          47,
          70,
          54,
          21,
          36,
          35,
          36,
          26,
          19,
          18,
          24,
          35,
          29,
          2,
          50,
          24,
          0.92,
          40,
          27,
          40,
          52,
          38,
          32,
          18,
          51,
          38,
          36,
          35,
          24,
          33,
          47,
          45,
          37,
          41,
          44,
          38,
          44,
          45.5,
          16,
          37,
          62,
          30,
          36,
          30,
          35,
          29,
          19,
          30,
          71,
          52,
          31,
          34,
          49,
          65,
          4,
          26,
          31,
          48,
          30,
          38,
          60,
          51,
          45,
          64,
          18,
          16,
          36,
          14,
          50,
          45,
          49,
          47,
          33,
          38,
          19,
          35,
          54,
          27,
          50,
          58,
          58,
          49,
          56,
          56,
          40,
          47,
          48,
          28,
          65,
          19,
          40,
          28,
          42,
          52,
          39,
          28,
          60,
          42,
          39,
          21,
          58,
          27,
          55,
          36,
          53,
          38,
          23,
          54,
          28,
          36,
          15,
          71,
          52,
          25,
          47,
          46,
          39,
          24,
          23,
          31,
          39,
          35,
          33,
          30,
          62,
          23,
          18,
          54,
          34,
          50,
          25,
          3,
          25,
          24,
          18,
          30,
          48,
          32,
          17,
          43,
          25,
          26,
          52,
          33,
          28,
          23,
          23,
          46,
          24,
          36,
          34,
          22,
          42,
          19,
          28,
          29,
          38,
          31,
          24,
          52,
          27,
          31,
          45,
          45,
          40,
          24,
          39,
          36,
          25,
          60,
          34,
          50,
          36,
          36,
          18,
          30,
          30,
          33,
          13,
          6,
          2,
          70,
          28,
          40,
          28,
          24,
          23,
          25,
          34,
          16,
          34,
          34,
          4,
          62,
          0.83,
          26,
          1,
          29,
          21,
          17,
          32.5,
          28,
          31,
          29,
          25,
          23,
          35,
          18,
          30,
          39,
          36.5,
          42,
          51,
          32.5,
          28,
          54,
          0.83,
          27,
          24,
          14,
          28,
          22,
          25,
          55,
          35,
          34,
          37,
          28,
          66,
          27,
          3,
          24,
          27,
          42,
          29,
          21,
          24,
          5,
          21,
          29,
          47,
          32,
          21,
          44,
          57,
          27,
          19,
          40,
          8,
          19,
          50,
          18,
          28,
          59,
          44,
          8,
          19,
          33,
          29,
          18,
          24,
          54,
          0.67,
          48,
          31,
          50,
          36,
          36,
          4,
          34,
          41,
          30,
          42,
          23,
          36,
          30,
          42,
          27,
          34,
          32,
          32,
          23,
          19,
          3,
          24,
          30,
          7,
          16,
          1,
          54,
          57,
          39,
          35,
          19,
          34,
          31,
          2,
          30,
          41,
          20,
          2,
          39,
          19,
          23,
          26,
          26,
          21,
          32,
          21,
          20,
          27,
          18,
          51,
          32,
          9,
          0.75,
          34,
          35,
          21,
          11,
          36,
          15,
          2,
          27,
          27,
          10,
          43,
          23,
          30.5,
          6,
          23,
          39,
          18,
          31,
          27,
          0.42,
          30,
          30,
          31,
          25,
          1,
          26,
          18,
          21,
          32,
          39,
          25,
          22,
          33,
          19,
          20,
          15,
          47,
          26,
          4,
          41,
          24,
          18,
          9,
          74,
          4,
          35,
          42,
          17,
          34.5,
          20,
          8,
          40,
          18,
          25,
          19,
          29,
          26,
          25,
          18,
          42,
          44,
          25,
          4,
          33,
          18,
          14,
          14,
          20,
          43,
          18,
          24.5,
          18,
          43,
          20,
          19,
          17,
          20,
          25,
          13,
          5,
          18,
          48,
          24,
          32,
          30.5,
          16,
          20,
          41,
          34,
          28,
          23,
          33,
          6,
          31,
          16,
          31,
          24,
          48,
          28.5,
          25,
          30,
          22,
          44,
          9,
          36,
          18,
          21,
          1,
          4,
          28,
          45,
          9,
          1,
          17,
          26,
          44,
          30,
          16,
          40.5,
          55.5,
          9,
          27,
          19,
          24,
          22,
          16,
          47,
          20,
          4,
          40,
          36,
          19,
          3,
          29,
          41,
          30,
          29,
          25,
          30,
          22,
          5,
          29,
          20.5,
          22,
          33,
          51,
          27,
          22,
          24,
          16,
          26,
          32,
          2,
          18,
          45.5,
          34,
          28,
          42,
          16,
          16,
          45,
          12,
          4,
          22,
          11,
          28.5,
          21,
          7,
          18,
          19,
          40,
          14,
          18,
          21,
          38,
          8,
          15,
          31,
          2,
          14,
          39,
          20,
          4,
          27,
          2,
          35,
          26,
          19,
          17,
          26,
          16,
          2,
          70.5,
          21,
          17,
          20,
          22,
          14.5,
          38,
          21,
          28,
          37,
          33,
          24,
          28,
          26,
          20,
          29,
          24,
          16,
          33,
          29,
          22,
          30,
          25,
          32,
          26,
          59,
          36,
          25,
          45,
          21,
          17,
          24,
          21,
          21,
          9,
          30,
          63,
          50,
          9,
          2,
          22,
          29,
          22,
          38,
          0.75,
          38,
          34,
          29,
          5,
          25,
          20,
          21,
          17,
          32,
          37,
          28,
          26,
          29,
          49,
          36,
          47,
          35,
          22,
          32,
          19,
          16,
          32,
          29,
          19,
          24,
          18,
          40,
          22,
          22,
          33,
          11,
          9,
          30,
          17,
          39,
          40.5,
          22,
          32,
          24,
          36,
          25,
          28,
          21,
          23,
          42,
          3,
          45,
          16,
          31,
          61,
          27,
          22,
          26,
          28,
          19,
          23.5,
          24,
          24,
          22,
          22,
          30,
          33,
          19,
          16,
          28,
          65,
          35,
          7,
          15,
          25,
          28,
          40,
          10,
          44,
          21,
          51,
          20,
          28,
          21,
          26,
          39,
          31,
          22,
          24,
          29,
          28,
          1,
          32,
          1,
          19,
          20,
          22,
          3,
          19,
          18,
          30,
          35,
          45,
          21,
          32
         ],
         "xbins": {
          "end": 80,
          "size": 1,
          "start": 0
         }
        }
       ],
       "layout": {
        "bargap": 0,
        "bargroupgap": 0,
        "template": {
         "data": {
          "bar": [
           {
            "error_x": {
             "color": "#2a3f5f"
            },
            "error_y": {
             "color": "#2a3f5f"
            },
            "marker": {
             "line": {
              "color": "#E5ECF6",
              "width": 0.5
             }
            },
            "type": "bar"
           }
          ],
          "barpolar": [
           {
            "marker": {
             "line": {
              "color": "#E5ECF6",
              "width": 0.5
             }
            },
            "type": "barpolar"
           }
          ],
          "carpet": [
           {
            "aaxis": {
             "endlinecolor": "#2a3f5f",
             "gridcolor": "white",
             "linecolor": "white",
             "minorgridcolor": "white",
             "startlinecolor": "#2a3f5f"
            },
            "baxis": {
             "endlinecolor": "#2a3f5f",
             "gridcolor": "white",
             "linecolor": "white",
             "minorgridcolor": "white",
             "startlinecolor": "#2a3f5f"
            },
            "type": "carpet"
           }
          ],
          "choropleth": [
           {
            "colorbar": {
             "outlinewidth": 0,
             "ticks": ""
            },
            "type": "choropleth"
           }
          ],
          "contour": [
           {
            "colorbar": {
             "outlinewidth": 0,
             "ticks": ""
            },
            "colorscale": [
             [
              0,
              "#0d0887"
             ],
             [
              0.1111111111111111,
              "#46039f"
             ],
             [
              0.2222222222222222,
              "#7201a8"
             ],
             [
              0.3333333333333333,
              "#9c179e"
             ],
             [
              0.4444444444444444,
              "#bd3786"
             ],
             [
              0.5555555555555556,
              "#d8576b"
             ],
             [
              0.6666666666666666,
              "#ed7953"
             ],
             [
              0.7777777777777778,
              "#fb9f3a"
             ],
             [
              0.8888888888888888,
              "#fdca26"
             ],
             [
              1,
              "#f0f921"
             ]
            ],
            "type": "contour"
           }
          ],
          "contourcarpet": [
           {
            "colorbar": {
             "outlinewidth": 0,
             "ticks": ""
            },
            "type": "contourcarpet"
           }
          ],
          "heatmap": [
           {
            "colorbar": {
             "outlinewidth": 0,
             "ticks": ""
            },
            "colorscale": [
             [
              0,
              "#0d0887"
             ],
             [
              0.1111111111111111,
              "#46039f"
             ],
             [
              0.2222222222222222,
              "#7201a8"
             ],
             [
              0.3333333333333333,
              "#9c179e"
             ],
             [
              0.4444444444444444,
              "#bd3786"
             ],
             [
              0.5555555555555556,
              "#d8576b"
             ],
             [
              0.6666666666666666,
              "#ed7953"
             ],
             [
              0.7777777777777778,
              "#fb9f3a"
             ],
             [
              0.8888888888888888,
              "#fdca26"
             ],
             [
              1,
              "#f0f921"
             ]
            ],
            "type": "heatmap"
           }
          ],
          "heatmapgl": [
           {
            "colorbar": {
             "outlinewidth": 0,
             "ticks": ""
            },
            "colorscale": [
             [
              0,
              "#0d0887"
             ],
             [
              0.1111111111111111,
              "#46039f"
             ],
             [
              0.2222222222222222,
              "#7201a8"
             ],
             [
              0.3333333333333333,
              "#9c179e"
             ],
             [
              0.4444444444444444,
              "#bd3786"
             ],
             [
              0.5555555555555556,
              "#d8576b"
             ],
             [
              0.6666666666666666,
              "#ed7953"
             ],
             [
              0.7777777777777778,
              "#fb9f3a"
             ],
             [
              0.8888888888888888,
              "#fdca26"
             ],
             [
              1,
              "#f0f921"
             ]
            ],
            "type": "heatmapgl"
           }
          ],
          "histogram": [
           {
            "marker": {
             "colorbar": {
              "outlinewidth": 0,
              "ticks": ""
             }
            },
            "type": "histogram"
           }
          ],
          "histogram2d": [
           {
            "colorbar": {
             "outlinewidth": 0,
             "ticks": ""
            },
            "colorscale": [
             [
              0,
              "#0d0887"
             ],
             [
              0.1111111111111111,
              "#46039f"
             ],
             [
              0.2222222222222222,
              "#7201a8"
             ],
             [
              0.3333333333333333,
              "#9c179e"
             ],
             [
              0.4444444444444444,
              "#bd3786"
             ],
             [
              0.5555555555555556,
              "#d8576b"
             ],
             [
              0.6666666666666666,
              "#ed7953"
             ],
             [
              0.7777777777777778,
              "#fb9f3a"
             ],
             [
              0.8888888888888888,
              "#fdca26"
             ],
             [
              1,
              "#f0f921"
             ]
            ],
            "type": "histogram2d"
           }
          ],
          "histogram2dcontour": [
           {
            "colorbar": {
             "outlinewidth": 0,
             "ticks": ""
            },
            "colorscale": [
             [
              0,
              "#0d0887"
             ],
             [
              0.1111111111111111,
              "#46039f"
             ],
             [
              0.2222222222222222,
              "#7201a8"
             ],
             [
              0.3333333333333333,
              "#9c179e"
             ],
             [
              0.4444444444444444,
              "#bd3786"
             ],
             [
              0.5555555555555556,
              "#d8576b"
             ],
             [
              0.6666666666666666,
              "#ed7953"
             ],
             [
              0.7777777777777778,
              "#fb9f3a"
             ],
             [
              0.8888888888888888,
              "#fdca26"
             ],
             [
              1,
              "#f0f921"
             ]
            ],
            "type": "histogram2dcontour"
           }
          ],
          "mesh3d": [
           {
            "colorbar": {
             "outlinewidth": 0,
             "ticks": ""
            },
            "type": "mesh3d"
           }
          ],
          "parcoords": [
           {
            "line": {
             "colorbar": {
              "outlinewidth": 0,
              "ticks": ""
             }
            },
            "type": "parcoords"
           }
          ],
          "pie": [
           {
            "automargin": true,
            "type": "pie"
           }
          ],
          "scatter": [
           {
            "marker": {
             "colorbar": {
              "outlinewidth": 0,
              "ticks": ""
             }
            },
            "type": "scatter"
           }
          ],
          "scatter3d": [
           {
            "line": {
             "colorbar": {
              "outlinewidth": 0,
              "ticks": ""
             }
            },
            "marker": {
             "colorbar": {
              "outlinewidth": 0,
              "ticks": ""
             }
            },
            "type": "scatter3d"
           }
          ],
          "scattercarpet": [
           {
            "marker": {
             "colorbar": {
              "outlinewidth": 0,
              "ticks": ""
             }
            },
            "type": "scattercarpet"
           }
          ],
          "scattergeo": [
           {
            "marker": {
             "colorbar": {
              "outlinewidth": 0,
              "ticks": ""
             }
            },
            "type": "scattergeo"
           }
          ],
          "scattergl": [
           {
            "marker": {
             "colorbar": {
              "outlinewidth": 0,
              "ticks": ""
             }
            },
            "type": "scattergl"
           }
          ],
          "scattermapbox": [
           {
            "marker": {
             "colorbar": {
              "outlinewidth": 0,
              "ticks": ""
             }
            },
            "type": "scattermapbox"
           }
          ],
          "scatterpolar": [
           {
            "marker": {
             "colorbar": {
              "outlinewidth": 0,
              "ticks": ""
             }
            },
            "type": "scatterpolar"
           }
          ],
          "scatterpolargl": [
           {
            "marker": {
             "colorbar": {
              "outlinewidth": 0,
              "ticks": ""
             }
            },
            "type": "scatterpolargl"
           }
          ],
          "scatterternary": [
           {
            "marker": {
             "colorbar": {
              "outlinewidth": 0,
              "ticks": ""
             }
            },
            "type": "scatterternary"
           }
          ],
          "surface": [
           {
            "colorbar": {
             "outlinewidth": 0,
             "ticks": ""
            },
            "colorscale": [
             [
              0,
              "#0d0887"
             ],
             [
              0.1111111111111111,
              "#46039f"
             ],
             [
              0.2222222222222222,
              "#7201a8"
             ],
             [
              0.3333333333333333,
              "#9c179e"
             ],
             [
              0.4444444444444444,
              "#bd3786"
             ],
             [
              0.5555555555555556,
              "#d8576b"
             ],
             [
              0.6666666666666666,
              "#ed7953"
             ],
             [
              0.7777777777777778,
              "#fb9f3a"
             ],
             [
              0.8888888888888888,
              "#fdca26"
             ],
             [
              1,
              "#f0f921"
             ]
            ],
            "type": "surface"
           }
          ],
          "table": [
           {
            "cells": {
             "fill": {
              "color": "#EBF0F8"
             },
             "line": {
              "color": "white"
             }
            },
            "header": {
             "fill": {
              "color": "#C8D4E3"
             },
             "line": {
              "color": "white"
             }
            },
            "type": "table"
           }
          ]
         },
         "layout": {
          "annotationdefaults": {
           "arrowcolor": "#2a3f5f",
           "arrowhead": 0,
           "arrowwidth": 1
          },
          "coloraxis": {
           "colorbar": {
            "outlinewidth": 0,
            "ticks": ""
           }
          },
          "colorscale": {
           "diverging": [
            [
             0,
             "#8e0152"
            ],
            [
             0.1,
             "#c51b7d"
            ],
            [
             0.2,
             "#de77ae"
            ],
            [
             0.3,
             "#f1b6da"
            ],
            [
             0.4,
             "#fde0ef"
            ],
            [
             0.5,
             "#f7f7f7"
            ],
            [
             0.6,
             "#e6f5d0"
            ],
            [
             0.7,
             "#b8e186"
            ],
            [
             0.8,
             "#7fbc41"
            ],
            [
             0.9,
             "#4d9221"
            ],
            [
             1,
             "#276419"
            ]
           ],
           "sequential": [
            [
             0,
             "#0d0887"
            ],
            [
             0.1111111111111111,
             "#46039f"
            ],
            [
             0.2222222222222222,
             "#7201a8"
            ],
            [
             0.3333333333333333,
             "#9c179e"
            ],
            [
             0.4444444444444444,
             "#bd3786"
            ],
            [
             0.5555555555555556,
             "#d8576b"
            ],
            [
             0.6666666666666666,
             "#ed7953"
            ],
            [
             0.7777777777777778,
             "#fb9f3a"
            ],
            [
             0.8888888888888888,
             "#fdca26"
            ],
            [
             1,
             "#f0f921"
            ]
           ],
           "sequentialminus": [
            [
             0,
             "#0d0887"
            ],
            [
             0.1111111111111111,
             "#46039f"
            ],
            [
             0.2222222222222222,
             "#7201a8"
            ],
            [
             0.3333333333333333,
             "#9c179e"
            ],
            [
             0.4444444444444444,
             "#bd3786"
            ],
            [
             0.5555555555555556,
             "#d8576b"
            ],
            [
             0.6666666666666666,
             "#ed7953"
            ],
            [
             0.7777777777777778,
             "#fb9f3a"
            ],
            [
             0.8888888888888888,
             "#fdca26"
            ],
            [
             1,
             "#f0f921"
            ]
           ]
          },
          "colorway": [
           "#636efa",
           "#EF553B",
           "#00cc96",
           "#ab63fa",
           "#FFA15A",
           "#19d3f3",
           "#FF6692",
           "#B6E880",
           "#FF97FF",
           "#FECB52"
          ],
          "font": {
           "color": "#2a3f5f"
          },
          "geo": {
           "bgcolor": "white",
           "lakecolor": "white",
           "landcolor": "#E5ECF6",
           "showlakes": true,
           "showland": true,
           "subunitcolor": "white"
          },
          "hoverlabel": {
           "align": "left"
          },
          "hovermode": "closest",
          "mapbox": {
           "style": "light"
          },
          "paper_bgcolor": "white",
          "plot_bgcolor": "#E5ECF6",
          "polar": {
           "angularaxis": {
            "gridcolor": "white",
            "linecolor": "white",
            "ticks": ""
           },
           "bgcolor": "#E5ECF6",
           "radialaxis": {
            "gridcolor": "white",
            "linecolor": "white",
            "ticks": ""
           }
          },
          "scene": {
           "xaxis": {
            "backgroundcolor": "#E5ECF6",
            "gridcolor": "white",
            "gridwidth": 2,
            "linecolor": "white",
            "showbackground": true,
            "ticks": "",
            "zerolinecolor": "white"
           },
           "yaxis": {
            "backgroundcolor": "#E5ECF6",
            "gridcolor": "white",
            "gridwidth": 2,
            "linecolor": "white",
            "showbackground": true,
            "ticks": "",
            "zerolinecolor": "white"
           },
           "zaxis": {
            "backgroundcolor": "#E5ECF6",
            "gridcolor": "white",
            "gridwidth": 2,
            "linecolor": "white",
            "showbackground": true,
            "ticks": "",
            "zerolinecolor": "white"
           }
          },
          "shapedefaults": {
           "line": {
            "color": "#2a3f5f"
           }
          },
          "ternary": {
           "aaxis": {
            "gridcolor": "white",
            "linecolor": "white",
            "ticks": ""
           },
           "baxis": {
            "gridcolor": "white",
            "linecolor": "white",
            "ticks": ""
           },
           "bgcolor": "#E5ECF6",
           "caxis": {
            "gridcolor": "white",
            "linecolor": "white",
            "ticks": ""
           }
          },
          "title": {
           "x": 0.05
          },
          "xaxis": {
           "automargin": true,
           "gridcolor": "white",
           "linecolor": "white",
           "ticks": "",
           "title": {
            "standoff": 15
           },
           "zerolinecolor": "white",
           "zerolinewidth": 2
          },
          "yaxis": {
           "automargin": true,
           "gridcolor": "white",
           "linecolor": "white",
           "ticks": "",
           "title": {
            "standoff": 15
           },
           "zerolinecolor": "white",
           "zerolinewidth": 2
          }
         }
        },
        "title": {
         "text": "Age of Passengers onboard the Titanic"
        },
        "xaxis": {
         "title": {
          "text": "Age"
         }
        },
        "yaxis": {
         "title": {
          "text": "Count"
         }
        }
       }
      },
      "text/html": [
       "<div>\n",
       "        \n",
       "        \n",
       "            <div id=\"c4f0ef18-b833-424c-96be-b5409a06b2d0\" class=\"plotly-graph-div\" style=\"height:525px; width:100%;\"></div>\n",
       "            <script type=\"text/javascript\">\n",
       "                require([\"plotly\"], function(Plotly) {\n",
       "                    window.PLOTLYENV=window.PLOTLYENV || {};\n",
       "                    \n",
       "                if (document.getElementById(\"c4f0ef18-b833-424c-96be-b5409a06b2d0\")) {\n",
       "                    Plotly.newPlot(\n",
       "                        'c4f0ef18-b833-424c-96be-b5409a06b2d0',\n",
       "                        [{\"histnorm\": \"percent\", \"marker\": {\"color\": \"#EB89B5\"}, \"name\": \"Age\", \"opacity\": 0.75, \"type\": \"histogram\", \"x\": [22.0, 48.0, 50.0, 22.0, 46.0, 25.0, 45.0, 80.0, 36.0, 24.0, 60.0, 22.0, 42.0, 44.0, 58.0, 29.0, 22.0, 17.0, 30.0, 43.0, 45.0, 24.0, 48.0, 40.0, 56.0, 32.0, 50.0, 49.0, 48.0, 24.0, 23.0, 62.0, 61.0, 54.0, 33.0, 36.0, 49.0, 17.0, 39.0, 51.0, 35.0, 17.0, 25.0, 18.0, 11.0, 42.0, 35.0, 21.0, 56.0, 64.0, 61.0, 27.0, 22.0, 16.0, 31.0, 31.0, 58.0, 35.0, 19.0, 37.0, 63.0, 47.0, 70.0, 54.0, 21.0, 36.0, 35.0, 36.0, 26.0, 19.0, 18.0, 24.0, 35.0, 29.0, 2.0, 50.0, 24.0, 0.92, 40.0, 27.0, 40.0, 52.0, 38.0, 32.0, 18.0, 51.0, 38.0, 36.0, 35.0, 24.0, 33.0, 47.0, 45.0, 37.0, 41.0, 44.0, 38.0, 44.0, 45.5, 16.0, 37.0, 62.0, 30.0, 36.0, 30.0, 35.0, 29.0, 19.0, 30.0, 71.0, 52.0, 31.0, 34.0, 49.0, 65.0, 4.0, 26.0, 31.0, 48.0, 30.0, 38.0, 60.0, 51.0, 45.0, 64.0, 18.0, 16.0, 36.0, 14.0, 50.0, 45.0, 49.0, 47.0, 33.0, 38.0, 19.0, 35.0, 54.0, 27.0, 50.0, 58.0, 58.0, 49.0, 56.0, 56.0, 40.0, 47.0, 48.0, 28.0, 65.0, 19.0, 40.0, 28.0, 42.0, 52.0, 39.0, 28.0, 60.0, 42.0, 39.0, 21.0, 58.0, 27.0, 55.0, 36.0, 53.0, 38.0, 23.0, 54.0, 28.0, 36.0, 15.0, 71.0, 52.0, 25.0, 47.0, 46.0, 39.0, 24.0, 23.0, 31.0, 39.0, 35.0, 33.0, 30.0, 62.0, 23.0, 18.0, 54.0, 34.0, 50.0, 25.0, 3.0, 25.0, 24.0, 18.0, 30.0, 48.0, 32.0, 17.0, 43.0, 25.0, 26.0, 52.0, 33.0, 28.0, 23.0, 23.0, 46.0, 24.0, 36.0, 34.0, 22.0, 42.0, 19.0, 28.0, 29.0, 38.0, 31.0, 24.0, 52.0, 27.0, 31.0, 45.0, 45.0, 40.0, 24.0, 39.0, 36.0, 25.0, 60.0, 34.0, 50.0, 36.0, 36.0, 18.0, 30.0, 30.0, 33.0, 13.0, 6.0, 2.0, 70.0, 28.0, 40.0, 28.0, 24.0, 23.0, 25.0, 34.0, 16.0, 34.0, 34.0, 4.0, 62.0, 0.83, 26.0, 1.0, 29.0, 21.0, 17.0, 32.5, 28.0, 31.0, 29.0, 25.0, 23.0, 35.0, 18.0, 30.0, 39.0, 36.5, 42.0, 51.0, 32.5, 28.0, 54.0, 0.83, 27.0, 24.0, 14.0, 28.0, 22.0, 25.0, 55.0, 35.0, 34.0, 37.0, 28.0, 66.0, 27.0, 3.0, 24.0, 27.0, 42.0, 29.0, 21.0, 24.0, 5.0, 21.0, 29.0, 47.0, 32.0, 21.0, 44.0, 57.0, 27.0, 19.0, 40.0, 8.0, 19.0, 50.0, 18.0, 28.0, 59.0, 44.0, 8.0, 19.0, 33.0, 29.0, 18.0, 24.0, 54.0, 0.67, 48.0, 31.0, 50.0, 36.0, 36.0, 4.0, 34.0, 41.0, 30.0, 42.0, 23.0, 36.0, 30.0, 42.0, 27.0, 34.0, 32.0, 32.0, 23.0, 19.0, 3.0, 24.0, 30.0, 7.0, 16.0, 1.0, 54.0, 57.0, 39.0, 35.0, 19.0, 34.0, 31.0, 2.0, 30.0, 41.0, 20.0, 2.0, 39.0, 19.0, 23.0, 26.0, 26.0, 21.0, 32.0, 21.0, 20.0, 27.0, 18.0, 51.0, 32.0, 9.0, 0.75, 34.0, 35.0, 21.0, 11.0, 36.0, 15.0, 2.0, 27.0, 27.0, 10.0, 43.0, 23.0, 30.5, 6.0, 23.0, 39.0, 18.0, 31.0, 27.0, 0.42, 30.0, 30.0, 31.0, 25.0, 1.0, 26.0, 18.0, 21.0, 32.0, 39.0, 25.0, 22.0, 33.0, 19.0, 20.0, 15.0, 47.0, 26.0, 4.0, 41.0, 24.0, 18.0, 9.0, 74.0, 4.0, 35.0, 42.0, 17.0, 34.5, 20.0, 8.0, 40.0, 18.0, 25.0, 19.0, 29.0, 26.0, 25.0, 18.0, 42.0, 44.0, 25.0, 4.0, 33.0, 18.0, 14.0, 14.0, 20.0, 43.0, 18.0, 24.5, 18.0, 43.0, 20.0, 19.0, 17.0, 20.0, 25.0, 13.0, 5.0, 18.0, 48.0, 24.0, 32.0, 30.5, 16.0, 20.0, 41.0, 34.0, 28.0, 23.0, 33.0, 6.0, 31.0, 16.0, 31.0, 24.0, 48.0, 28.5, 25.0, 30.0, 22.0, 44.0, 9.0, 36.0, 18.0, 21.0, 1.0, 4.0, 28.0, 45.0, 9.0, 1.0, 17.0, 26.0, 44.0, 30.0, 16.0, 40.5, 55.5, 9.0, 27.0, 19.0, 24.0, 22.0, 16.0, 47.0, 20.0, 4.0, 40.0, 36.0, 19.0, 3.0, 29.0, 41.0, 30.0, 29.0, 25.0, 30.0, 22.0, 5.0, 29.0, 20.5, 22.0, 33.0, 51.0, 27.0, 22.0, 24.0, 16.0, 26.0, 32.0, 2.0, 18.0, 45.5, 34.0, 28.0, 42.0, 16.0, 16.0, 45.0, 12.0, 4.0, 22.0, 11.0, 28.5, 21.0, 7.0, 18.0, 19.0, 40.0, 14.0, 18.0, 21.0, 38.0, 8.0, 15.0, 31.0, 2.0, 14.0, 39.0, 20.0, 4.0, 27.0, 2.0, 35.0, 26.0, 19.0, 17.0, 26.0, 16.0, 2.0, 70.5, 21.0, 17.0, 20.0, 22.0, 14.5, 38.0, 21.0, 28.0, 37.0, 33.0, 24.0, 28.0, 26.0, 20.0, 29.0, 24.0, 16.0, 33.0, 29.0, 22.0, 30.0, 25.0, 32.0, 26.0, 59.0, 36.0, 25.0, 45.0, 21.0, 17.0, 24.0, 21.0, 21.0, 9.0, 30.0, 63.0, 50.0, 9.0, 2.0, 22.0, 29.0, 22.0, 38.0, 0.75, 38.0, 34.0, 29.0, 5.0, 25.0, 20.0, 21.0, 17.0, 32.0, 37.0, 28.0, 26.0, 29.0, 49.0, 36.0, 47.0, 35.0, 22.0, 32.0, 19.0, 16.0, 32.0, 29.0, 19.0, 24.0, 18.0, 40.0, 22.0, 22.0, 33.0, 11.0, 9.0, 30.0, 17.0, 39.0, 40.5, 22.0, 32.0, 24.0, 36.0, 25.0, 28.0, 21.0, 23.0, 42.0, 3.0, 45.0, 16.0, 31.0, 61.0, 27.0, 22.0, 26.0, 28.0, 19.0, 23.5, 24.0, 24.0, 22.0, 22.0, 30.0, 33.0, 19.0, 16.0, 28.0, 65.0, 35.0, 7.0, 15.0, 25.0, 28.0, 40.0, 10.0, 44.0, 21.0, 51.0, 20.0, 28.0, 21.0, 26.0, 39.0, 31.0, 22.0, 24.0, 29.0, 28.0, 1.0, 32.0, 1.0, 19.0, 20.0, 22.0, 3.0, 19.0, 18.0, 30.0, 35.0, 45.0, 21.0, 32.0], \"xbins\": {\"end\": 80, \"size\": 1, \"start\": 0}}],\n",
       "                        {\"bargap\": 0, \"bargroupgap\": 0, \"template\": {\"data\": {\"bar\": [{\"error_x\": {\"color\": \"#2a3f5f\"}, \"error_y\": {\"color\": \"#2a3f5f\"}, \"marker\": {\"line\": {\"color\": \"#E5ECF6\", \"width\": 0.5}}, \"type\": \"bar\"}], \"barpolar\": [{\"marker\": {\"line\": {\"color\": \"#E5ECF6\", \"width\": 0.5}}, \"type\": \"barpolar\"}], \"carpet\": [{\"aaxis\": {\"endlinecolor\": \"#2a3f5f\", \"gridcolor\": \"white\", \"linecolor\": \"white\", \"minorgridcolor\": \"white\", \"startlinecolor\": \"#2a3f5f\"}, \"baxis\": {\"endlinecolor\": \"#2a3f5f\", \"gridcolor\": \"white\", \"linecolor\": \"white\", \"minorgridcolor\": \"white\", \"startlinecolor\": \"#2a3f5f\"}, \"type\": \"carpet\"}], \"choropleth\": [{\"colorbar\": {\"outlinewidth\": 0, \"ticks\": \"\"}, \"type\": \"choropleth\"}], \"contour\": [{\"colorbar\": {\"outlinewidth\": 0, \"ticks\": \"\"}, \"colorscale\": [[0.0, \"#0d0887\"], [0.1111111111111111, \"#46039f\"], [0.2222222222222222, \"#7201a8\"], [0.3333333333333333, \"#9c179e\"], [0.4444444444444444, \"#bd3786\"], [0.5555555555555556, \"#d8576b\"], [0.6666666666666666, \"#ed7953\"], [0.7777777777777778, \"#fb9f3a\"], [0.8888888888888888, \"#fdca26\"], [1.0, \"#f0f921\"]], \"type\": \"contour\"}], \"contourcarpet\": [{\"colorbar\": {\"outlinewidth\": 0, \"ticks\": \"\"}, \"type\": \"contourcarpet\"}], \"heatmap\": [{\"colorbar\": {\"outlinewidth\": 0, \"ticks\": \"\"}, \"colorscale\": [[0.0, \"#0d0887\"], [0.1111111111111111, \"#46039f\"], [0.2222222222222222, \"#7201a8\"], [0.3333333333333333, \"#9c179e\"], [0.4444444444444444, \"#bd3786\"], [0.5555555555555556, \"#d8576b\"], [0.6666666666666666, \"#ed7953\"], [0.7777777777777778, \"#fb9f3a\"], [0.8888888888888888, \"#fdca26\"], [1.0, \"#f0f921\"]], \"type\": \"heatmap\"}], \"heatmapgl\": [{\"colorbar\": {\"outlinewidth\": 0, \"ticks\": \"\"}, \"colorscale\": [[0.0, \"#0d0887\"], [0.1111111111111111, \"#46039f\"], [0.2222222222222222, \"#7201a8\"], [0.3333333333333333, \"#9c179e\"], [0.4444444444444444, \"#bd3786\"], [0.5555555555555556, \"#d8576b\"], [0.6666666666666666, \"#ed7953\"], [0.7777777777777778, \"#fb9f3a\"], [0.8888888888888888, \"#fdca26\"], [1.0, \"#f0f921\"]], \"type\": \"heatmapgl\"}], \"histogram\": [{\"marker\": {\"colorbar\": {\"outlinewidth\": 0, \"ticks\": \"\"}}, \"type\": \"histogram\"}], \"histogram2d\": [{\"colorbar\": {\"outlinewidth\": 0, \"ticks\": \"\"}, \"colorscale\": [[0.0, \"#0d0887\"], [0.1111111111111111, \"#46039f\"], [0.2222222222222222, \"#7201a8\"], [0.3333333333333333, \"#9c179e\"], [0.4444444444444444, \"#bd3786\"], [0.5555555555555556, \"#d8576b\"], [0.6666666666666666, \"#ed7953\"], [0.7777777777777778, \"#fb9f3a\"], [0.8888888888888888, \"#fdca26\"], [1.0, \"#f0f921\"]], \"type\": \"histogram2d\"}], \"histogram2dcontour\": [{\"colorbar\": {\"outlinewidth\": 0, \"ticks\": \"\"}, \"colorscale\": [[0.0, \"#0d0887\"], [0.1111111111111111, \"#46039f\"], [0.2222222222222222, \"#7201a8\"], [0.3333333333333333, \"#9c179e\"], [0.4444444444444444, \"#bd3786\"], [0.5555555555555556, \"#d8576b\"], [0.6666666666666666, \"#ed7953\"], [0.7777777777777778, \"#fb9f3a\"], [0.8888888888888888, \"#fdca26\"], [1.0, \"#f0f921\"]], \"type\": \"histogram2dcontour\"}], \"mesh3d\": [{\"colorbar\": {\"outlinewidth\": 0, \"ticks\": \"\"}, \"type\": \"mesh3d\"}], \"parcoords\": [{\"line\": {\"colorbar\": {\"outlinewidth\": 0, \"ticks\": \"\"}}, \"type\": \"parcoords\"}], \"pie\": [{\"automargin\": true, \"type\": \"pie\"}], \"scatter\": [{\"marker\": {\"colorbar\": {\"outlinewidth\": 0, \"ticks\": \"\"}}, \"type\": \"scatter\"}], \"scatter3d\": [{\"line\": {\"colorbar\": {\"outlinewidth\": 0, \"ticks\": \"\"}}, \"marker\": {\"colorbar\": {\"outlinewidth\": 0, \"ticks\": \"\"}}, \"type\": \"scatter3d\"}], \"scattercarpet\": [{\"marker\": {\"colorbar\": {\"outlinewidth\": 0, \"ticks\": \"\"}}, \"type\": \"scattercarpet\"}], \"scattergeo\": [{\"marker\": {\"colorbar\": {\"outlinewidth\": 0, \"ticks\": \"\"}}, \"type\": \"scattergeo\"}], \"scattergl\": [{\"marker\": {\"colorbar\": {\"outlinewidth\": 0, \"ticks\": \"\"}}, \"type\": \"scattergl\"}], \"scattermapbox\": [{\"marker\": {\"colorbar\": {\"outlinewidth\": 0, \"ticks\": \"\"}}, \"type\": \"scattermapbox\"}], \"scatterpolar\": [{\"marker\": {\"colorbar\": {\"outlinewidth\": 0, \"ticks\": \"\"}}, \"type\": \"scatterpolar\"}], \"scatterpolargl\": [{\"marker\": {\"colorbar\": {\"outlinewidth\": 0, \"ticks\": \"\"}}, \"type\": \"scatterpolargl\"}], \"scatterternary\": [{\"marker\": {\"colorbar\": {\"outlinewidth\": 0, \"ticks\": \"\"}}, \"type\": \"scatterternary\"}], \"surface\": [{\"colorbar\": {\"outlinewidth\": 0, \"ticks\": \"\"}, \"colorscale\": [[0.0, \"#0d0887\"], [0.1111111111111111, \"#46039f\"], [0.2222222222222222, \"#7201a8\"], [0.3333333333333333, \"#9c179e\"], [0.4444444444444444, \"#bd3786\"], [0.5555555555555556, \"#d8576b\"], [0.6666666666666666, \"#ed7953\"], [0.7777777777777778, \"#fb9f3a\"], [0.8888888888888888, \"#fdca26\"], [1.0, \"#f0f921\"]], \"type\": \"surface\"}], \"table\": [{\"cells\": {\"fill\": {\"color\": \"#EBF0F8\"}, \"line\": {\"color\": \"white\"}}, \"header\": {\"fill\": {\"color\": \"#C8D4E3\"}, \"line\": {\"color\": \"white\"}}, \"type\": \"table\"}]}, \"layout\": {\"annotationdefaults\": {\"arrowcolor\": \"#2a3f5f\", \"arrowhead\": 0, \"arrowwidth\": 1}, \"coloraxis\": {\"colorbar\": {\"outlinewidth\": 0, \"ticks\": \"\"}}, \"colorscale\": {\"diverging\": [[0, \"#8e0152\"], [0.1, \"#c51b7d\"], [0.2, \"#de77ae\"], [0.3, \"#f1b6da\"], [0.4, \"#fde0ef\"], [0.5, \"#f7f7f7\"], [0.6, \"#e6f5d0\"], [0.7, \"#b8e186\"], [0.8, \"#7fbc41\"], [0.9, \"#4d9221\"], [1, \"#276419\"]], \"sequential\": [[0.0, \"#0d0887\"], [0.1111111111111111, \"#46039f\"], [0.2222222222222222, \"#7201a8\"], [0.3333333333333333, \"#9c179e\"], [0.4444444444444444, \"#bd3786\"], [0.5555555555555556, \"#d8576b\"], [0.6666666666666666, \"#ed7953\"], [0.7777777777777778, \"#fb9f3a\"], [0.8888888888888888, \"#fdca26\"], [1.0, \"#f0f921\"]], \"sequentialminus\": [[0.0, \"#0d0887\"], [0.1111111111111111, \"#46039f\"], [0.2222222222222222, \"#7201a8\"], [0.3333333333333333, \"#9c179e\"], [0.4444444444444444, \"#bd3786\"], [0.5555555555555556, \"#d8576b\"], [0.6666666666666666, \"#ed7953\"], [0.7777777777777778, \"#fb9f3a\"], [0.8888888888888888, \"#fdca26\"], [1.0, \"#f0f921\"]]}, \"colorway\": [\"#636efa\", \"#EF553B\", \"#00cc96\", \"#ab63fa\", \"#FFA15A\", \"#19d3f3\", \"#FF6692\", \"#B6E880\", \"#FF97FF\", \"#FECB52\"], \"font\": {\"color\": \"#2a3f5f\"}, \"geo\": {\"bgcolor\": \"white\", \"lakecolor\": \"white\", \"landcolor\": \"#E5ECF6\", \"showlakes\": true, \"showland\": true, \"subunitcolor\": \"white\"}, \"hoverlabel\": {\"align\": \"left\"}, \"hovermode\": \"closest\", \"mapbox\": {\"style\": \"light\"}, \"paper_bgcolor\": \"white\", \"plot_bgcolor\": \"#E5ECF6\", \"polar\": {\"angularaxis\": {\"gridcolor\": \"white\", \"linecolor\": \"white\", \"ticks\": \"\"}, \"bgcolor\": \"#E5ECF6\", \"radialaxis\": {\"gridcolor\": \"white\", \"linecolor\": \"white\", \"ticks\": \"\"}}, \"scene\": {\"xaxis\": {\"backgroundcolor\": \"#E5ECF6\", \"gridcolor\": \"white\", \"gridwidth\": 2, \"linecolor\": \"white\", \"showbackground\": true, \"ticks\": \"\", \"zerolinecolor\": \"white\"}, \"yaxis\": {\"backgroundcolor\": \"#E5ECF6\", \"gridcolor\": \"white\", \"gridwidth\": 2, \"linecolor\": \"white\", \"showbackground\": true, \"ticks\": \"\", \"zerolinecolor\": \"white\"}, \"zaxis\": {\"backgroundcolor\": \"#E5ECF6\", \"gridcolor\": \"white\", \"gridwidth\": 2, \"linecolor\": \"white\", \"showbackground\": true, \"ticks\": \"\", \"zerolinecolor\": \"white\"}}, \"shapedefaults\": {\"line\": {\"color\": \"#2a3f5f\"}}, \"ternary\": {\"aaxis\": {\"gridcolor\": \"white\", \"linecolor\": \"white\", \"ticks\": \"\"}, \"baxis\": {\"gridcolor\": \"white\", \"linecolor\": \"white\", \"ticks\": \"\"}, \"bgcolor\": \"#E5ECF6\", \"caxis\": {\"gridcolor\": \"white\", \"linecolor\": \"white\", \"ticks\": \"\"}}, \"title\": {\"x\": 0.05}, \"xaxis\": {\"automargin\": true, \"gridcolor\": \"white\", \"linecolor\": \"white\", \"ticks\": \"\", \"title\": {\"standoff\": 15}, \"zerolinecolor\": \"white\", \"zerolinewidth\": 2}, \"yaxis\": {\"automargin\": true, \"gridcolor\": \"white\", \"linecolor\": \"white\", \"ticks\": \"\", \"title\": {\"standoff\": 15}, \"zerolinecolor\": \"white\", \"zerolinewidth\": 2}}}, \"title\": {\"text\": \"Age of Passengers onboard the Titanic\"}, \"xaxis\": {\"title\": {\"text\": \"Age\"}}, \"yaxis\": {\"title\": {\"text\": \"Count\"}}},\n",
       "                        {\"responsive\": true}\n",
       "                    ).then(function(){\n",
       "                            \n",
       "var gd = document.getElementById('c4f0ef18-b833-424c-96be-b5409a06b2d0');\n",
       "var x = new MutationObserver(function (mutations, observer) {{\n",
       "        var display = window.getComputedStyle(gd).display;\n",
       "        if (!display || display === 'none') {{\n",
       "            console.log([gd, 'removed!']);\n",
       "            Plotly.purge(gd);\n",
       "            observer.disconnect();\n",
       "        }}\n",
       "}});\n",
       "\n",
       "// Listen for the removal of the full notebook cells\n",
       "var notebookContainer = gd.closest('#notebook-container');\n",
       "if (notebookContainer) {{\n",
       "    x.observe(notebookContainer, {childList: true});\n",
       "}}\n",
       "\n",
       "// Listen for the clearing of the current output cell\n",
       "var outputEl = gd.closest('.output');\n",
       "if (outputEl) {{\n",
       "    x.observe(outputEl, {childList: true});\n",
       "}}\n",
       "\n",
       "                        })\n",
       "                };\n",
       "                });\n",
       "            </script>\n",
       "        </div>"
      ]
     },
     "metadata": {},
     "output_type": "display_data"
    }
   ],
   "source": [
    "fig = go.Figure()\n",
    "fig.add_trace(go.Histogram(\n",
    "    x=titanic['age'],\n",
    "    histnorm='percent',\n",
    "    name='Age', # name used in legend and hover labels\n",
    "    xbins=dict( # bins used for histogram\n",
    "        start=0,\n",
    "        end=80,\n",
    "        size=1\n",
    "    ),\n",
    "    marker_color='#EB89B5',\n",
    "    opacity=0.75\n",
    "))\n",
    "\n",
    "fig.update_layout(\n",
    "    title_text='Age of Passengers onboard the Titanic', # title of plot\n",
    "    xaxis_title_text='Age', # xaxis label\n",
    "    yaxis_title_text='Count', # yaxis label\n",
    "    bargap=0, # gap between bars of adjacent location coordinates\n",
    "    bargroupgap=0 # gap between bars of the same location coordinates\n",
    ")\n",
    "\n",
    "fig.show()\n",
    "\n",
    "fig.write_image('../images/fig2.png')"
   ]
  },
  {
   "cell_type": "code",
   "execution_count": null,
   "metadata": {},
   "outputs": [],
   "source": []
  },
  {
   "cell_type": "code",
   "execution_count": null,
   "metadata": {},
   "outputs": [],
   "source": []
  }
 ],
 "metadata": {
  "kernelspec": {
   "display_name": "Python 3",
   "language": "python",
   "name": "python3"
  },
  "language_info": {
   "codemirror_mode": {
    "name": "ipython",
    "version": 3
   },
   "file_extension": ".py",
   "mimetype": "text/x-python",
   "name": "python",
   "nbconvert_exporter": "python",
   "pygments_lexer": "ipython3",
   "version": "3.7.4"
  }
 },
 "nbformat": 4,
 "nbformat_minor": 2
}
