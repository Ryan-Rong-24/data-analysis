{
 "cells": [
  {
   "cell_type": "code",
   "execution_count": 12,
   "metadata": {},
   "outputs": [
    {
     "name": "stdout",
     "output_type": "stream",
     "text": [
      "     state/region     ages  year   population    state abbreviation\n",
      "0              AL  under18  2012    1117489.0  Alabama           AL\n",
      "1              AL    total  2012    4817528.0  Alabama           AL\n",
      "2              AL  under18  2010    1130966.0  Alabama           AL\n",
      "3              AL    total  2010    4785570.0  Alabama           AL\n",
      "4              AL  under18  2011    1125763.0  Alabama           AL\n",
      "...           ...      ...   ...          ...      ...          ...\n",
      "2539          USA    total  2010  309326295.0      NaN          NaN\n",
      "2540          USA  under18  2011   73902222.0      NaN          NaN\n",
      "2541          USA    total  2011  311582564.0      NaN          NaN\n",
      "2542          USA  under18  2012   73708179.0      NaN          NaN\n",
      "2543          USA    total  2012  313873685.0      NaN          NaN\n",
      "\n",
      "[2544 rows x 6 columns]\n",
      "state/region    False\n",
      "ages            False\n",
      "year            False\n",
      "population       True\n",
      "state            True\n",
      "abbreviation     True\n",
      "dtype: bool\n",
      "  state/region     ages  year  population    state\n",
      "0           AL  under18  2012   1117489.0  Alabama\n",
      "1           AL    total  2012   4817528.0  Alabama\n",
      "2           AL  under18  2010   1130966.0  Alabama\n",
      "3           AL    total  2010   4785570.0  Alabama\n",
      "4           AL  under18  2011   1125763.0  Alabama\n",
      "        state abbreviation\n",
      "0     Alabama           AL\n",
      "1      Alaska           AK\n",
      "2     Arizona           AZ\n",
      "3    Arkansas           AR\n",
      "4  California           CA\n",
      "  state/region     ages  year  population\n",
      "0           AL  under18  2012   1117489.0\n",
      "1           AL    total  2012   4817528.0\n",
      "2           AL  under18  2010   1130966.0\n",
      "3           AL    total  2010   4785570.0\n",
      "4           AL  under18  2011   1125763.0\n",
      "        state  area (sq. mi)\n",
      "0     Alabama          52423\n",
      "1      Alaska         656425\n",
      "2     Arizona         114006\n",
      "3    Arkansas          53182\n",
      "4  California         163707\n"
     ]
    }
   ],
   "source": [
    "import pandas as pd\n",
    "import numpy as np\n",
    "\n",
    "abb = pd.read_csv('../data_source/state-abbrevs.csv')\n",
    "areas = pd.read_csv('../data_source/state-areas.csv')\n",
    "pops = pd.read_csv('../data_source/state-population.csv')\n",
    "merged = pd.merge(pops,abb,how='outer',left_on='state/region',right_on='abbreviation')\n",
    "print(merged)\n",
    "print(merged.isnull().any())\n",
    "merged = merged.drop('abbreviation',1)\n",
    "print(merged.head())\n",
    "print(abb.head())\n",
    "print(pops.head())\n",
    "print(areas.head())"
   ]
  },
  {
   "cell_type": "code",
   "execution_count": null,
   "metadata": {},
   "outputs": [],
   "source": []
  }
 ],
 "metadata": {
  "kernelspec": {
   "display_name": "Python 3",
   "language": "python",
   "name": "python3"
  },
  "language_info": {
   "codemirror_mode": {
    "name": "ipython",
    "version": 3
   },
   "file_extension": ".py",
   "mimetype": "text/x-python",
   "name": "python",
   "nbconvert_exporter": "python",
   "pygments_lexer": "ipython3",
   "version": "3.7.4"
  }
 },
 "nbformat": 4,
 "nbformat_minor": 2
}
